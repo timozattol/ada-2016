{
 "cells": [
  {
   "cell_type": "code",
   "execution_count": 1,
   "metadata": {
    "collapsed": true
   },
   "outputs": [],
   "source": [
    "import pandas as pd\n",
    "import numpy as np\n",
    "import seaborn as sns \n",
    "\n",
    "%matplotlib inline"
   ]
  },
  {
   "cell_type": "markdown",
   "metadata": {},
   "source": [
    "## Part 0: Loading and cleaning the data"
   ]
  },
  {
   "cell_type": "code",
   "execution_count": 2,
   "metadata": {
    "collapsed": false
   },
   "outputs": [],
   "source": [
    "data_path = \"CrowdstormingDataJuly1st.csv\"\n",
    "df = pd.read_csv(data_path)"
   ]
  },
  {
   "cell_type": "markdown",
   "metadata": {},
   "source": [
    "**Each row in the dataset is a (player _p_, referee _r_) dyad containing some information about the player, total number of each type of card (yellow, yellow-red, and red) given by _r_ to _p_, and some statistics about racial bias in the referee's home country.**"
   ]
  },
  {
   "cell_type": "code",
   "execution_count": 3,
   "metadata": {
    "collapsed": false
   },
   "outputs": [
    {
     "data": {
      "text/html": [
       "<div>\n",
       "<table border=\"1\" class=\"dataframe\">\n",
       "  <thead>\n",
       "    <tr style=\"text-align: right;\">\n",
       "      <th></th>\n",
       "      <th>playerShort</th>\n",
       "      <th>player</th>\n",
       "      <th>club</th>\n",
       "      <th>leagueCountry</th>\n",
       "      <th>birthday</th>\n",
       "      <th>height</th>\n",
       "      <th>weight</th>\n",
       "      <th>position</th>\n",
       "      <th>games</th>\n",
       "      <th>victories</th>\n",
       "      <th>...</th>\n",
       "      <th>rater2</th>\n",
       "      <th>refNum</th>\n",
       "      <th>refCountry</th>\n",
       "      <th>Alpha_3</th>\n",
       "      <th>meanIAT</th>\n",
       "      <th>nIAT</th>\n",
       "      <th>seIAT</th>\n",
       "      <th>meanExp</th>\n",
       "      <th>nExp</th>\n",
       "      <th>seExp</th>\n",
       "    </tr>\n",
       "  </thead>\n",
       "  <tbody>\n",
       "    <tr>\n",
       "      <th>141251</th>\n",
       "      <td>garrido_2</td>\n",
       "      <td>Garrido</td>\n",
       "      <td>Norwich City</td>\n",
       "      <td>England</td>\n",
       "      <td>15.03.1985</td>\n",
       "      <td>178.0</td>\n",
       "      <td>75.0</td>\n",
       "      <td>Left Fullback</td>\n",
       "      <td>5</td>\n",
       "      <td>1</td>\n",
       "      <td>...</td>\n",
       "      <td>0.25</td>\n",
       "      <td>3012</td>\n",
       "      <td>3</td>\n",
       "      <td>ESP</td>\n",
       "      <td>0.369894</td>\n",
       "      <td>1785.0</td>\n",
       "      <td>0.000229</td>\n",
       "      <td>0.588297</td>\n",
       "      <td>1897.0</td>\n",
       "      <td>0.001002</td>\n",
       "    </tr>\n",
       "    <tr>\n",
       "      <th>127796</th>\n",
       "      <td>klaas-jan-huntelaar</td>\n",
       "      <td>Klaas-Jan Huntelaar</td>\n",
       "      <td>FC Schalke 04</td>\n",
       "      <td>Germany</td>\n",
       "      <td>12.08.1983</td>\n",
       "      <td>186.0</td>\n",
       "      <td>78.0</td>\n",
       "      <td>Center Forward</td>\n",
       "      <td>1</td>\n",
       "      <td>1</td>\n",
       "      <td>...</td>\n",
       "      <td>0.25</td>\n",
       "      <td>2743</td>\n",
       "      <td>52</td>\n",
       "      <td>RUS</td>\n",
       "      <td>0.398174</td>\n",
       "      <td>526.0</td>\n",
       "      <td>0.000809</td>\n",
       "      <td>1.212727</td>\n",
       "      <td>550.0</td>\n",
       "      <td>0.004521</td>\n",
       "    </tr>\n",
       "    <tr>\n",
       "      <th>95235</th>\n",
       "      <td>ronny-garbuschewski</td>\n",
       "      <td>Ronny Garbuschewski</td>\n",
       "      <td>Fortuna Düsseldorf</td>\n",
       "      <td>Germany</td>\n",
       "      <td>23.02.1986</td>\n",
       "      <td>178.0</td>\n",
       "      <td>75.0</td>\n",
       "      <td>Right Midfielder</td>\n",
       "      <td>2</td>\n",
       "      <td>1</td>\n",
       "      <td>...</td>\n",
       "      <td>0.25</td>\n",
       "      <td>2042</td>\n",
       "      <td>8</td>\n",
       "      <td>DEU</td>\n",
       "      <td>0.336628</td>\n",
       "      <td>7749.0</td>\n",
       "      <td>0.000055</td>\n",
       "      <td>0.335967</td>\n",
       "      <td>7974.0</td>\n",
       "      <td>0.000225</td>\n",
       "    </tr>\n",
       "    <tr>\n",
       "      <th>32261</th>\n",
       "      <td>juanfran_2</td>\n",
       "      <td>Juanfran</td>\n",
       "      <td>Atlético Madrid</td>\n",
       "      <td>Spain</td>\n",
       "      <td>09.01.1985</td>\n",
       "      <td>180.0</td>\n",
       "      <td>72.0</td>\n",
       "      <td>Right Fullback</td>\n",
       "      <td>1</td>\n",
       "      <td>1</td>\n",
       "      <td>...</td>\n",
       "      <td>0.00</td>\n",
       "      <td>579</td>\n",
       "      <td>32</td>\n",
       "      <td>CHE</td>\n",
       "      <td>0.345305</td>\n",
       "      <td>1886.0</td>\n",
       "      <td>0.000219</td>\n",
       "      <td>0.377193</td>\n",
       "      <td>1938.0</td>\n",
       "      <td>0.000823</td>\n",
       "    </tr>\n",
       "    <tr>\n",
       "      <th>74881</th>\n",
       "      <td>billy-jones</td>\n",
       "      <td>Billy Jones</td>\n",
       "      <td>West Bromwich Albion</td>\n",
       "      <td>England</td>\n",
       "      <td>24.03.1987</td>\n",
       "      <td>180.0</td>\n",
       "      <td>83.0</td>\n",
       "      <td>Left Fullback</td>\n",
       "      <td>6</td>\n",
       "      <td>1</td>\n",
       "      <td>...</td>\n",
       "      <td>NaN</td>\n",
       "      <td>1633</td>\n",
       "      <td>44</td>\n",
       "      <td>ENGL</td>\n",
       "      <td>0.326690</td>\n",
       "      <td>44791.0</td>\n",
       "      <td>0.000010</td>\n",
       "      <td>0.356446</td>\n",
       "      <td>46916.0</td>\n",
       "      <td>0.000037</td>\n",
       "    </tr>\n",
       "  </tbody>\n",
       "</table>\n",
       "<p>5 rows × 28 columns</p>\n",
       "</div>"
      ],
      "text/plain": [
       "                playerShort               player                  club  \\\n",
       "141251            garrido_2              Garrido          Norwich City   \n",
       "127796  klaas-jan-huntelaar  Klaas-Jan Huntelaar         FC Schalke 04   \n",
       "95235   ronny-garbuschewski  Ronny Garbuschewski    Fortuna Düsseldorf   \n",
       "32261            juanfran_2             Juanfran       Atlético Madrid   \n",
       "74881           billy-jones          Billy Jones  West Bromwich Albion   \n",
       "\n",
       "       leagueCountry    birthday  height  weight          position  games  \\\n",
       "141251       England  15.03.1985   178.0    75.0     Left Fullback      5   \n",
       "127796       Germany  12.08.1983   186.0    78.0    Center Forward      1   \n",
       "95235        Germany  23.02.1986   178.0    75.0  Right Midfielder      2   \n",
       "32261          Spain  09.01.1985   180.0    72.0    Right Fullback      1   \n",
       "74881        England  24.03.1987   180.0    83.0     Left Fullback      6   \n",
       "\n",
       "        victories    ...     rater2  refNum  refCountry  Alpha_3   meanIAT  \\\n",
       "141251          1    ...       0.25    3012           3      ESP  0.369894   \n",
       "127796          1    ...       0.25    2743          52      RUS  0.398174   \n",
       "95235           1    ...       0.25    2042           8      DEU  0.336628   \n",
       "32261           1    ...       0.00     579          32      CHE  0.345305   \n",
       "74881           1    ...        NaN    1633          44     ENGL  0.326690   \n",
       "\n",
       "           nIAT     seIAT   meanExp     nExp     seExp  \n",
       "141251   1785.0  0.000229  0.588297   1897.0  0.001002  \n",
       "127796    526.0  0.000809  1.212727    550.0  0.004521  \n",
       "95235    7749.0  0.000055  0.335967   7974.0  0.000225  \n",
       "32261    1886.0  0.000219  0.377193   1938.0  0.000823  \n",
       "74881   44791.0  0.000010  0.356446  46916.0  0.000037  \n",
       "\n",
       "[5 rows x 28 columns]"
      ]
     },
     "execution_count": 3,
     "metadata": {},
     "output_type": "execute_result"
    }
   ],
   "source": [
    "df.sample(5)"
   ]
  },
  {
   "cell_type": "code",
   "execution_count": 4,
   "metadata": {
    "collapsed": false
   },
   "outputs": [
    {
     "name": "stdout",
     "output_type": "stream",
     "text": [
      "Number of entries: 146028\n"
     ]
    }
   ],
   "source": [
    "print(\"Number of entries: %d\" % len(df))"
   ]
  },
  {
   "cell_type": "markdown",
   "metadata": {},
   "source": [
    "**We want to make sure we do our analysis with a clean dataset, so we check for null entries**"
   ]
  },
  {
   "cell_type": "code",
   "execution_count": 5,
   "metadata": {
    "collapsed": false
   },
   "outputs": [
    {
     "data": {
      "text/plain": [
       "playerShort          0\n",
       "player               0\n",
       "club                 0\n",
       "leagueCountry        0\n",
       "birthday             0\n",
       "height             263\n",
       "weight            2243\n",
       "position         17726\n",
       "games                0\n",
       "victories            0\n",
       "ties                 0\n",
       "defeats              0\n",
       "goals                0\n",
       "yellowCards          0\n",
       "yellowReds           0\n",
       "redCards             0\n",
       "photoID          21407\n",
       "rater1           21407\n",
       "rater2           21407\n",
       "refNum               0\n",
       "refCountry           0\n",
       "Alpha_3              1\n",
       "meanIAT            163\n",
       "nIAT               163\n",
       "seIAT              163\n",
       "meanExp            163\n",
       "nExp               163\n",
       "seExp              163\n",
       "dtype: int64"
      ]
     },
     "execution_count": 5,
     "metadata": {},
     "output_type": "execute_result"
    }
   ],
   "source": [
    "df.isnull().sum()"
   ]
  },
  {
   "cell_type": "markdown",
   "metadata": {},
   "source": [
    "**We can see that there are many players without skin color ratings. Those players aren't going to be useful for our prediction task, so we drop all of them**"
   ]
  },
  {
   "cell_type": "code",
   "execution_count": 6,
   "metadata": {
    "collapsed": false
   },
   "outputs": [
    {
     "name": "stdout",
     "output_type": "stream",
     "text": [
      "124621\n"
     ]
    }
   ],
   "source": [
    "df = df.dropna(subset=[\"rater1\", \"rater2\"])\n",
    "print(len(df))"
   ]
  },
  {
   "cell_type": "markdown",
   "metadata": {},
   "source": [
    "**What other missing values are we dealing with in this dataset?**\n",
    "- Position: We see that of over 100,000 dyads there are several thousand rows missing the position field. We choose not to modify these values because we aren't going to use the player's position for our prediction.\n",
    "- Height/weight and bias information for referee country: only a few hundred rows are missing this information, so we choose to drop all."
   ]
  },
  {
   "cell_type": "code",
   "execution_count": 7,
   "metadata": {
    "collapsed": false
   },
   "outputs": [
    {
     "data": {
      "text/plain": [
       "playerShort         0\n",
       "player              0\n",
       "club                0\n",
       "leagueCountry       0\n",
       "birthday            0\n",
       "height              0\n",
       "weight              0\n",
       "position         8258\n",
       "games               0\n",
       "victories           0\n",
       "ties                0\n",
       "defeats             0\n",
       "goals               0\n",
       "yellowCards         0\n",
       "yellowReds          0\n",
       "redCards            0\n",
       "photoID             0\n",
       "rater1              0\n",
       "rater2              0\n",
       "refNum              0\n",
       "refCountry          0\n",
       "Alpha_3             0\n",
       "meanIAT             0\n",
       "nIAT                0\n",
       "seIAT               0\n",
       "meanExp             0\n",
       "nExp                0\n",
       "seExp               0\n",
       "dtype: int64"
      ]
     },
     "execution_count": 7,
     "metadata": {},
     "output_type": "execute_result"
    }
   ],
   "source": [
    "df = df.dropna(subset=['height', 'weight', 'Alpha_3', 'meanIAT', 'nIAT', 'seIAT', 'meanExp', 'nExp', 'seExp'])\n",
    "df.isnull().sum()"
   ]
  },
  {
   "cell_type": "code",
   "execution_count": 8,
   "metadata": {
    "collapsed": false
   },
   "outputs": [
    {
     "data": {
      "text/plain": [
       "123715"
      ]
     },
     "execution_count": 8,
     "metadata": {},
     "output_type": "execute_result"
    }
   ],
   "source": [
    "len(df)"
   ]
  },
  {
   "cell_type": "markdown",
   "metadata": {},
   "source": [
    "**OK, now we have a clean dataset to work with!**"
   ]
  },
  {
   "cell_type": "markdown",
   "metadata": {},
   "source": [
    "**We read through the Crowdstorming analytics visualization notebook linked in the homework description. Unlike them, we decided that we do not have a strong reason to drop the dyads that they judged \"incomplete\" (i.e. did not have at least 11 referee-player dyads from the same club).**"
   ]
  },
  {
   "cell_type": "markdown",
   "metadata": {},
   "source": [
    "**We decided to only work with the numeric features in the dataset, such as:\n",
    "height, weight, game statistics, goals, cards, skin color ratings, and referee statistics.\n",
    "We may be able to achieve better accuracy by encoding categorical features like the position and the country but for this assignment we chose to focus on playing with the classifier rather than going for maximum accuracy**"
   ]
  },
  {
   "cell_type": "code",
   "execution_count": 9,
   "metadata": {
    "collapsed": false
   },
   "outputs": [
    {
     "data": {
      "text/html": [
       "<div>\n",
       "<table border=\"1\" class=\"dataframe\">\n",
       "  <thead>\n",
       "    <tr style=\"text-align: right;\">\n",
       "      <th></th>\n",
       "      <th>height</th>\n",
       "      <th>weight</th>\n",
       "      <th>games</th>\n",
       "      <th>victories</th>\n",
       "      <th>ties</th>\n",
       "      <th>defeats</th>\n",
       "      <th>goals</th>\n",
       "      <th>yellowCards</th>\n",
       "      <th>yellowReds</th>\n",
       "      <th>redCards</th>\n",
       "      <th>rater1</th>\n",
       "      <th>rater2</th>\n",
       "      <th>refNum</th>\n",
       "      <th>refCountry</th>\n",
       "      <th>meanIAT</th>\n",
       "      <th>nIAT</th>\n",
       "      <th>seIAT</th>\n",
       "      <th>meanExp</th>\n",
       "      <th>nExp</th>\n",
       "      <th>seExp</th>\n",
       "    </tr>\n",
       "    <tr>\n",
       "      <th>playerShort</th>\n",
       "      <th></th>\n",
       "      <th></th>\n",
       "      <th></th>\n",
       "      <th></th>\n",
       "      <th></th>\n",
       "      <th></th>\n",
       "      <th></th>\n",
       "      <th></th>\n",
       "      <th></th>\n",
       "      <th></th>\n",
       "      <th></th>\n",
       "      <th></th>\n",
       "      <th></th>\n",
       "      <th></th>\n",
       "      <th></th>\n",
       "      <th></th>\n",
       "      <th></th>\n",
       "      <th></th>\n",
       "      <th></th>\n",
       "      <th></th>\n",
       "    </tr>\n",
       "  </thead>\n",
       "  <tbody>\n",
       "    <tr>\n",
       "      <th>aaron-hughes</th>\n",
       "      <td>182.0</td>\n",
       "      <td>71.0</td>\n",
       "      <td>3.939759</td>\n",
       "      <td>1.487952</td>\n",
       "      <td>1.078313</td>\n",
       "      <td>1.373494</td>\n",
       "      <td>0.054217</td>\n",
       "      <td>0.114458</td>\n",
       "      <td>0.000000</td>\n",
       "      <td>0.000000</td>\n",
       "      <td>0.25</td>\n",
       "      <td>0.00</td>\n",
       "      <td>1612.656627</td>\n",
       "      <td>43.921687</td>\n",
       "      <td>0.346459</td>\n",
       "      <td>19710.156627</td>\n",
       "      <td>0.000652</td>\n",
       "      <td>0.494575</td>\n",
       "      <td>20637.277108</td>\n",
       "      <td>0.004065</td>\n",
       "    </tr>\n",
       "    <tr>\n",
       "      <th>aaron-hunt</th>\n",
       "      <td>183.0</td>\n",
       "      <td>73.0</td>\n",
       "      <td>3.393939</td>\n",
       "      <td>1.424242</td>\n",
       "      <td>0.737374</td>\n",
       "      <td>1.232323</td>\n",
       "      <td>0.626263</td>\n",
       "      <td>0.424242</td>\n",
       "      <td>0.000000</td>\n",
       "      <td>0.010101</td>\n",
       "      <td>0.00</td>\n",
       "      <td>0.25</td>\n",
       "      <td>1662.515152</td>\n",
       "      <td>25.070707</td>\n",
       "      <td>0.348818</td>\n",
       "      <td>26104.292929</td>\n",
       "      <td>0.000219</td>\n",
       "      <td>0.449220</td>\n",
       "      <td>26864.454545</td>\n",
       "      <td>0.000993</td>\n",
       "    </tr>\n",
       "    <tr>\n",
       "      <th>aaron-lennon</th>\n",
       "      <td>165.0</td>\n",
       "      <td>63.0</td>\n",
       "      <td>4.079208</td>\n",
       "      <td>1.980198</td>\n",
       "      <td>0.960396</td>\n",
       "      <td>1.138614</td>\n",
       "      <td>0.306931</td>\n",
       "      <td>0.108911</td>\n",
       "      <td>0.000000</td>\n",
       "      <td>0.000000</td>\n",
       "      <td>0.25</td>\n",
       "      <td>0.25</td>\n",
       "      <td>1598.871287</td>\n",
       "      <td>42.772277</td>\n",
       "      <td>0.345893</td>\n",
       "      <td>21234.861386</td>\n",
       "      <td>0.000367</td>\n",
       "      <td>0.491482</td>\n",
       "      <td>22238.742574</td>\n",
       "      <td>0.002032</td>\n",
       "    </tr>\n",
       "    <tr>\n",
       "      <th>aaron-ramsey</th>\n",
       "      <td>178.0</td>\n",
       "      <td>76.0</td>\n",
       "      <td>2.500000</td>\n",
       "      <td>1.442308</td>\n",
       "      <td>0.403846</td>\n",
       "      <td>0.653846</td>\n",
       "      <td>0.375000</td>\n",
       "      <td>0.298077</td>\n",
       "      <td>0.000000</td>\n",
       "      <td>0.009615</td>\n",
       "      <td>0.00</td>\n",
       "      <td>0.00</td>\n",
       "      <td>1668.500000</td>\n",
       "      <td>45.067308</td>\n",
       "      <td>0.346821</td>\n",
       "      <td>38285.826923</td>\n",
       "      <td>0.003334</td>\n",
       "      <td>0.514693</td>\n",
       "      <td>39719.980769</td>\n",
       "      <td>0.013522</td>\n",
       "    </tr>\n",
       "    <tr>\n",
       "      <th>abdelhamid-el-kaoutari</th>\n",
       "      <td>180.0</td>\n",
       "      <td>73.0</td>\n",
       "      <td>3.351351</td>\n",
       "      <td>1.108108</td>\n",
       "      <td>1.081081</td>\n",
       "      <td>1.162162</td>\n",
       "      <td>0.027027</td>\n",
       "      <td>0.216216</td>\n",
       "      <td>0.108108</td>\n",
       "      <td>0.054054</td>\n",
       "      <td>0.25</td>\n",
       "      <td>0.25</td>\n",
       "      <td>1610.891892</td>\n",
       "      <td>17.189189</td>\n",
       "      <td>0.331600</td>\n",
       "      <td>2832.351351</td>\n",
       "      <td>0.001488</td>\n",
       "      <td>0.335587</td>\n",
       "      <td>2953.837838</td>\n",
       "      <td>0.005296</td>\n",
       "    </tr>\n",
       "  </tbody>\n",
       "</table>\n",
       "</div>"
      ],
      "text/plain": [
       "                        height  weight     games  victories      ties  \\\n",
       "playerShort                                                             \n",
       "aaron-hughes             182.0    71.0  3.939759   1.487952  1.078313   \n",
       "aaron-hunt               183.0    73.0  3.393939   1.424242  0.737374   \n",
       "aaron-lennon             165.0    63.0  4.079208   1.980198  0.960396   \n",
       "aaron-ramsey             178.0    76.0  2.500000   1.442308  0.403846   \n",
       "abdelhamid-el-kaoutari   180.0    73.0  3.351351   1.108108  1.081081   \n",
       "\n",
       "                         defeats     goals  yellowCards  yellowReds  redCards  \\\n",
       "playerShort                                                                     \n",
       "aaron-hughes            1.373494  0.054217     0.114458    0.000000  0.000000   \n",
       "aaron-hunt              1.232323  0.626263     0.424242    0.000000  0.010101   \n",
       "aaron-lennon            1.138614  0.306931     0.108911    0.000000  0.000000   \n",
       "aaron-ramsey            0.653846  0.375000     0.298077    0.000000  0.009615   \n",
       "abdelhamid-el-kaoutari  1.162162  0.027027     0.216216    0.108108  0.054054   \n",
       "\n",
       "                        rater1  rater2       refNum  refCountry   meanIAT  \\\n",
       "playerShort                                                                 \n",
       "aaron-hughes              0.25    0.00  1612.656627   43.921687  0.346459   \n",
       "aaron-hunt                0.00    0.25  1662.515152   25.070707  0.348818   \n",
       "aaron-lennon              0.25    0.25  1598.871287   42.772277  0.345893   \n",
       "aaron-ramsey              0.00    0.00  1668.500000   45.067308  0.346821   \n",
       "abdelhamid-el-kaoutari    0.25    0.25  1610.891892   17.189189  0.331600   \n",
       "\n",
       "                                nIAT     seIAT   meanExp          nExp  \\\n",
       "playerShort                                                              \n",
       "aaron-hughes            19710.156627  0.000652  0.494575  20637.277108   \n",
       "aaron-hunt              26104.292929  0.000219  0.449220  26864.454545   \n",
       "aaron-lennon            21234.861386  0.000367  0.491482  22238.742574   \n",
       "aaron-ramsey            38285.826923  0.003334  0.514693  39719.980769   \n",
       "abdelhamid-el-kaoutari   2832.351351  0.001488  0.335587   2953.837838   \n",
       "\n",
       "                           seExp  \n",
       "playerShort                       \n",
       "aaron-hughes            0.004065  \n",
       "aaron-hunt              0.000993  \n",
       "aaron-lennon            0.002032  \n",
       "aaron-ramsey            0.013522  \n",
       "abdelhamid-el-kaoutari  0.005296  "
      ]
     },
     "execution_count": 9,
     "metadata": {},
     "output_type": "execute_result"
    }
   ],
   "source": [
    "# How we apparently compute our features:\n",
    "# Group by player, take the mean over the dyad\n",
    "# This doesn't make much sense for total game stats,\n",
    "# but the average number goals per game, cards per game, \n",
    "# and most importantly meanIAT and meanExp of the referees\n",
    "# over all the player's games are useful\n",
    "df_by_player = df.groupby(\"playerShort\")\n",
    "df_players = df_by_player.agg(np.mean)\n",
    "df_players.head()"
   ]
  },
  {
   "cell_type": "code",
   "execution_count": 10,
   "metadata": {
    "collapsed": false
   },
   "outputs": [
    {
     "data": {
      "text/html": [
       "<div>\n",
       "<table border=\"1\" class=\"dataframe\">\n",
       "  <thead>\n",
       "    <tr style=\"text-align: right;\">\n",
       "      <th></th>\n",
       "      <th>height</th>\n",
       "      <th>weight</th>\n",
       "      <th>games</th>\n",
       "      <th>victories</th>\n",
       "      <th>ties</th>\n",
       "      <th>defeats</th>\n",
       "      <th>goals</th>\n",
       "      <th>yellowCards</th>\n",
       "      <th>yellowReds</th>\n",
       "      <th>redCards</th>\n",
       "      <th>rater1</th>\n",
       "      <th>rater2</th>\n",
       "      <th>refNum</th>\n",
       "      <th>refCountry</th>\n",
       "      <th>meanIAT</th>\n",
       "      <th>nIAT</th>\n",
       "      <th>seIAT</th>\n",
       "      <th>meanExp</th>\n",
       "      <th>nExp</th>\n",
       "      <th>seExp</th>\n",
       "    </tr>\n",
       "  </thead>\n",
       "  <tbody>\n",
       "    <tr>\n",
       "      <th>count</th>\n",
       "      <td>1564.000000</td>\n",
       "      <td>1564.000000</td>\n",
       "      <td>1564.000000</td>\n",
       "      <td>1564.000000</td>\n",
       "      <td>1564.000000</td>\n",
       "      <td>1564.000000</td>\n",
       "      <td>1564.000000</td>\n",
       "      <td>1564.000000</td>\n",
       "      <td>1564.000000</td>\n",
       "      <td>1564.000000</td>\n",
       "      <td>1564.000000</td>\n",
       "      <td>1564.000000</td>\n",
       "      <td>1564.000000</td>\n",
       "      <td>1564.000000</td>\n",
       "      <td>1564.000000</td>\n",
       "      <td>1564.000000</td>\n",
       "      <td>1564.000000</td>\n",
       "      <td>1564.000000</td>\n",
       "      <td>1564.000000</td>\n",
       "      <td>1564.000000</td>\n",
       "    </tr>\n",
       "    <tr>\n",
       "      <th>mean</th>\n",
       "      <td>182.042839</td>\n",
       "      <td>76.034527</td>\n",
       "      <td>2.903226</td>\n",
       "      <td>1.247609</td>\n",
       "      <td>0.704326</td>\n",
       "      <td>0.951291</td>\n",
       "      <td>0.310336</td>\n",
       "      <td>0.399730</td>\n",
       "      <td>0.012310</td>\n",
       "      <td>0.013003</td>\n",
       "      <td>0.267743</td>\n",
       "      <td>0.309783</td>\n",
       "      <td>1511.853989</td>\n",
       "      <td>26.711618</td>\n",
       "      <td>0.348415</td>\n",
       "      <td>16242.871908</td>\n",
       "      <td>0.000609</td>\n",
       "      <td>0.463617</td>\n",
       "      <td>16848.408464</td>\n",
       "      <td>0.002857</td>\n",
       "    </tr>\n",
       "    <tr>\n",
       "      <th>std</th>\n",
       "      <td>6.743169</td>\n",
       "      <td>7.105553</td>\n",
       "      <td>1.101581</td>\n",
       "      <td>0.527910</td>\n",
       "      <td>0.314797</td>\n",
       "      <td>0.433801</td>\n",
       "      <td>0.367279</td>\n",
       "      <td>0.285479</td>\n",
       "      <td>0.017776</td>\n",
       "      <td>0.017934</td>\n",
       "      <td>0.295731</td>\n",
       "      <td>0.296099</td>\n",
       "      <td>193.627225</td>\n",
       "      <td>14.044972</td>\n",
       "      <td>0.013425</td>\n",
       "      <td>26946.220220</td>\n",
       "      <td>0.001034</td>\n",
       "      <td>0.095542</td>\n",
       "      <td>27751.347852</td>\n",
       "      <td>0.004717</td>\n",
       "    </tr>\n",
       "    <tr>\n",
       "      <th>min</th>\n",
       "      <td>161.000000</td>\n",
       "      <td>54.000000</td>\n",
       "      <td>1.000000</td>\n",
       "      <td>0.000000</td>\n",
       "      <td>0.000000</td>\n",
       "      <td>0.000000</td>\n",
       "      <td>0.000000</td>\n",
       "      <td>0.000000</td>\n",
       "      <td>0.000000</td>\n",
       "      <td>0.000000</td>\n",
       "      <td>0.000000</td>\n",
       "      <td>0.000000</td>\n",
       "      <td>705.500000</td>\n",
       "      <td>2.850000</td>\n",
       "      <td>0.268981</td>\n",
       "      <td>483.666667</td>\n",
       "      <td>0.000010</td>\n",
       "      <td>-0.108731</td>\n",
       "      <td>500.333333</td>\n",
       "      <td>0.000037</td>\n",
       "    </tr>\n",
       "    <tr>\n",
       "      <th>25%</th>\n",
       "      <td>178.000000</td>\n",
       "      <td>71.000000</td>\n",
       "      <td>2.073642</td>\n",
       "      <td>0.859649</td>\n",
       "      <td>0.492247</td>\n",
       "      <td>0.647680</td>\n",
       "      <td>0.063244</td>\n",
       "      <td>0.204983</td>\n",
       "      <td>0.000000</td>\n",
       "      <td>0.000000</td>\n",
       "      <td>0.000000</td>\n",
       "      <td>0.000000</td>\n",
       "      <td>1435.948236</td>\n",
       "      <td>14.146875</td>\n",
       "      <td>0.338500</td>\n",
       "      <td>3929.731061</td>\n",
       "      <td>0.000223</td>\n",
       "      <td>0.388103</td>\n",
       "      <td>4132.092366</td>\n",
       "      <td>0.001001</td>\n",
       "    </tr>\n",
       "    <tr>\n",
       "      <th>50%</th>\n",
       "      <td>182.000000</td>\n",
       "      <td>76.000000</td>\n",
       "      <td>2.782330</td>\n",
       "      <td>1.210443</td>\n",
       "      <td>0.658814</td>\n",
       "      <td>0.866667</td>\n",
       "      <td>0.186047</td>\n",
       "      <td>0.336499</td>\n",
       "      <td>0.000000</td>\n",
       "      <td>0.008231</td>\n",
       "      <td>0.250000</td>\n",
       "      <td>0.250000</td>\n",
       "      <td>1553.437099</td>\n",
       "      <td>27.270692</td>\n",
       "      <td>0.346405</td>\n",
       "      <td>7463.962994</td>\n",
       "      <td>0.000321</td>\n",
       "      <td>0.455258</td>\n",
       "      <td>7709.856676</td>\n",
       "      <td>0.001509</td>\n",
       "    </tr>\n",
       "    <tr>\n",
       "      <th>75%</th>\n",
       "      <td>187.000000</td>\n",
       "      <td>81.000000</td>\n",
       "      <td>3.573006</td>\n",
       "      <td>1.576882</td>\n",
       "      <td>0.881605</td>\n",
       "      <td>1.169802</td>\n",
       "      <td>0.432407</td>\n",
       "      <td>0.530938</td>\n",
       "      <td>0.018868</td>\n",
       "      <td>0.019802</td>\n",
       "      <td>0.500000</td>\n",
       "      <td>0.500000</td>\n",
       "      <td>1633.387070</td>\n",
       "      <td>38.828405</td>\n",
       "      <td>0.357850</td>\n",
       "      <td>22222.643116</td>\n",
       "      <td>0.000581</td>\n",
       "      <td>0.540415</td>\n",
       "      <td>23255.157737</td>\n",
       "      <td>0.002897</td>\n",
       "    </tr>\n",
       "    <tr>\n",
       "      <th>max</th>\n",
       "      <td>203.000000</td>\n",
       "      <td>100.000000</td>\n",
       "      <td>8.000000</td>\n",
       "      <td>3.657343</td>\n",
       "      <td>2.274510</td>\n",
       "      <td>3.450980</td>\n",
       "      <td>3.299145</td>\n",
       "      <td>2.482759</td>\n",
       "      <td>0.132075</td>\n",
       "      <td>0.166667</td>\n",
       "      <td>1.000000</td>\n",
       "      <td>1.000000</td>\n",
       "      <td>2960.000000</td>\n",
       "      <td>80.000000</td>\n",
       "      <td>0.413096</td>\n",
       "      <td>429801.926829</td>\n",
       "      <td>0.019879</td>\n",
       "      <td>1.122201</td>\n",
       "      <td>441869.926829</td>\n",
       "      <td>0.097267</td>\n",
       "    </tr>\n",
       "  </tbody>\n",
       "</table>\n",
       "</div>"
      ],
      "text/plain": [
       "            height       weight        games    victories         ties  \\\n",
       "count  1564.000000  1564.000000  1564.000000  1564.000000  1564.000000   \n",
       "mean    182.042839    76.034527     2.903226     1.247609     0.704326   \n",
       "std       6.743169     7.105553     1.101581     0.527910     0.314797   \n",
       "min     161.000000    54.000000     1.000000     0.000000     0.000000   \n",
       "25%     178.000000    71.000000     2.073642     0.859649     0.492247   \n",
       "50%     182.000000    76.000000     2.782330     1.210443     0.658814   \n",
       "75%     187.000000    81.000000     3.573006     1.576882     0.881605   \n",
       "max     203.000000   100.000000     8.000000     3.657343     2.274510   \n",
       "\n",
       "           defeats        goals  yellowCards   yellowReds     redCards  \\\n",
       "count  1564.000000  1564.000000  1564.000000  1564.000000  1564.000000   \n",
       "mean      0.951291     0.310336     0.399730     0.012310     0.013003   \n",
       "std       0.433801     0.367279     0.285479     0.017776     0.017934   \n",
       "min       0.000000     0.000000     0.000000     0.000000     0.000000   \n",
       "25%       0.647680     0.063244     0.204983     0.000000     0.000000   \n",
       "50%       0.866667     0.186047     0.336499     0.000000     0.008231   \n",
       "75%       1.169802     0.432407     0.530938     0.018868     0.019802   \n",
       "max       3.450980     3.299145     2.482759     0.132075     0.166667   \n",
       "\n",
       "            rater1       rater2       refNum   refCountry      meanIAT  \\\n",
       "count  1564.000000  1564.000000  1564.000000  1564.000000  1564.000000   \n",
       "mean      0.267743     0.309783  1511.853989    26.711618     0.348415   \n",
       "std       0.295731     0.296099   193.627225    14.044972     0.013425   \n",
       "min       0.000000     0.000000   705.500000     2.850000     0.268981   \n",
       "25%       0.000000     0.000000  1435.948236    14.146875     0.338500   \n",
       "50%       0.250000     0.250000  1553.437099    27.270692     0.346405   \n",
       "75%       0.500000     0.500000  1633.387070    38.828405     0.357850   \n",
       "max       1.000000     1.000000  2960.000000    80.000000     0.413096   \n",
       "\n",
       "                nIAT        seIAT      meanExp           nExp        seExp  \n",
       "count    1564.000000  1564.000000  1564.000000    1564.000000  1564.000000  \n",
       "mean    16242.871908     0.000609     0.463617   16848.408464     0.002857  \n",
       "std     26946.220220     0.001034     0.095542   27751.347852     0.004717  \n",
       "min       483.666667     0.000010    -0.108731     500.333333     0.000037  \n",
       "25%      3929.731061     0.000223     0.388103    4132.092366     0.001001  \n",
       "50%      7463.962994     0.000321     0.455258    7709.856676     0.001509  \n",
       "75%     22222.643116     0.000581     0.540415   23255.157737     0.002897  \n",
       "max    429801.926829     0.019879     1.122201  441869.926829     0.097267  "
      ]
     },
     "execution_count": 10,
     "metadata": {},
     "output_type": "execute_result"
    }
   ],
   "source": [
    "df_players.describe()\n"
   ]
  },
  {
   "cell_type": "code",
   "execution_count": 11,
   "metadata": {
    "collapsed": false
   },
   "outputs": [
    {
     "data": {
      "text/plain": [
       "1564"
      ]
     },
     "execution_count": 11,
     "metadata": {},
     "output_type": "execute_result"
    }
   ],
   "source": [
    "# Create a df with player constant description attributes\n",
    "df_players_description = pd.DataFrame(df_players[[\"height\", \"weight\", \"rater1\", \"rater2\"]])\n",
    "df_players_description.sample(5)\n",
    "len(df_players_description)"
   ]
  },
  {
   "cell_type": "markdown",
   "metadata": {},
   "source": [
    "# Part 1: Random Forest"
   ]
  },
  {
   "cell_type": "markdown",
   "metadata": {},
   "source": [
    "## Raters consistency"
   ]
  },
  {
   "cell_type": "markdown",
   "metadata": {},
   "source": [
    "We suspect that the raters have a certain bias and do not always rate the same player the same way. We look at the differences"
   ]
  },
  {
   "cell_type": "code",
   "execution_count": 12,
   "metadata": {
    "collapsed": false
   },
   "outputs": [
    {
     "data": {
      "text/plain": [
       "count    1564.00000\n",
       "mean       -0.04204\n",
       "std         0.11639\n",
       "min        -0.50000\n",
       "25%         0.00000\n",
       "50%         0.00000\n",
       "75%         0.00000\n",
       "max         0.25000\n",
       "dtype: float64"
      ]
     },
     "execution_count": 12,
     "metadata": {},
     "output_type": "execute_result"
    }
   ],
   "source": [
    "(df_players_description[\"rater1\"] - df_players_description[\"rater2\"]).describe()"
   ]
  },
  {
   "cell_type": "markdown",
   "metadata": {
    "collapsed": true
   },
   "source": [
    "We see that rater2 rates the skintone higher than rater1 on average. \n",
    "We now make a new attribute that is the mean of rater1 and rater2's scores. "
   ]
  },
  {
   "cell_type": "code",
   "execution_count": 13,
   "metadata": {
    "collapsed": false
   },
   "outputs": [],
   "source": [
    "df_players_description[\"rateMean\"] = (df_players_description[\"rater1\"] + df_players_description[\"rater2\"]) / 2"
   ]
  },
  {
   "cell_type": "code",
   "execution_count": 14,
   "metadata": {
    "collapsed": false
   },
   "outputs": [
    {
     "data": {
      "text/html": [
       "<div>\n",
       "<table border=\"1\" class=\"dataframe\">\n",
       "  <thead>\n",
       "    <tr style=\"text-align: right;\">\n",
       "      <th></th>\n",
       "      <th>height</th>\n",
       "      <th>weight</th>\n",
       "      <th>rater1</th>\n",
       "      <th>rater2</th>\n",
       "      <th>rateMean</th>\n",
       "    </tr>\n",
       "    <tr>\n",
       "      <th>playerShort</th>\n",
       "      <th></th>\n",
       "      <th></th>\n",
       "      <th></th>\n",
       "      <th></th>\n",
       "      <th></th>\n",
       "    </tr>\n",
       "  </thead>\n",
       "  <tbody>\n",
       "    <tr>\n",
       "      <th>jan-mucha</th>\n",
       "      <td>189.0</td>\n",
       "      <td>87.0</td>\n",
       "      <td>0.25</td>\n",
       "      <td>0.25</td>\n",
       "      <td>0.25</td>\n",
       "    </tr>\n",
       "    <tr>\n",
       "      <th>bruno-gama</th>\n",
       "      <td>175.0</td>\n",
       "      <td>68.0</td>\n",
       "      <td>0.25</td>\n",
       "      <td>0.25</td>\n",
       "      <td>0.25</td>\n",
       "    </tr>\n",
       "    <tr>\n",
       "      <th>marc-stendera</th>\n",
       "      <td>171.0</td>\n",
       "      <td>64.0</td>\n",
       "      <td>0.00</td>\n",
       "      <td>0.00</td>\n",
       "      <td>0.00</td>\n",
       "    </tr>\n",
       "    <tr>\n",
       "      <th>stephen-kelly</th>\n",
       "      <td>181.0</td>\n",
       "      <td>77.0</td>\n",
       "      <td>0.25</td>\n",
       "      <td>0.25</td>\n",
       "      <td>0.25</td>\n",
       "    </tr>\n",
       "    <tr>\n",
       "      <th>alassane-plea</th>\n",
       "      <td>180.0</td>\n",
       "      <td>65.0</td>\n",
       "      <td>0.75</td>\n",
       "      <td>0.75</td>\n",
       "      <td>0.75</td>\n",
       "    </tr>\n",
       "  </tbody>\n",
       "</table>\n",
       "</div>"
      ],
      "text/plain": [
       "               height  weight  rater1  rater2  rateMean\n",
       "playerShort                                            \n",
       "jan-mucha       189.0    87.0    0.25    0.25      0.25\n",
       "bruno-gama      175.0    68.0    0.25    0.25      0.25\n",
       "marc-stendera   171.0    64.0    0.00    0.00      0.00\n",
       "stephen-kelly   181.0    77.0    0.25    0.25      0.25\n",
       "alassane-plea   180.0    65.0    0.75    0.75      0.75"
      ]
     },
     "execution_count": 14,
     "metadata": {},
     "output_type": "execute_result"
    }
   ],
   "source": [
    "df_players_description.sample(5)"
   ]
  },
  {
   "cell_type": "markdown",
   "metadata": {},
   "source": [
    "Since random forest uses binary classification, we decided to define a binary attribute \"darkSkin\". We have to choose the limit between \"white\" and \"black\". We arbitrarily chose a mean rating greater than or equal to 0.5 to be considered \"darkSkin\"."
   ]
  },
  {
   "cell_type": "code",
   "execution_count": 15,
   "metadata": {
    "collapsed": false,
    "scrolled": true
   },
   "outputs": [
    {
     "data": {
      "text/html": [
       "<div>\n",
       "<table border=\"1\" class=\"dataframe\">\n",
       "  <thead>\n",
       "    <tr style=\"text-align: right;\">\n",
       "      <th></th>\n",
       "      <th>height</th>\n",
       "      <th>weight</th>\n",
       "      <th>rater1</th>\n",
       "      <th>rater2</th>\n",
       "      <th>rateMean</th>\n",
       "      <th>darkSkin</th>\n",
       "    </tr>\n",
       "    <tr>\n",
       "      <th>playerShort</th>\n",
       "      <th></th>\n",
       "      <th></th>\n",
       "      <th></th>\n",
       "      <th></th>\n",
       "      <th></th>\n",
       "      <th></th>\n",
       "    </tr>\n",
       "  </thead>\n",
       "  <tbody>\n",
       "    <tr>\n",
       "      <th>aaron-hughes</th>\n",
       "      <td>182.0</td>\n",
       "      <td>71.0</td>\n",
       "      <td>0.25</td>\n",
       "      <td>0.00</td>\n",
       "      <td>0.125</td>\n",
       "      <td>False</td>\n",
       "    </tr>\n",
       "    <tr>\n",
       "      <th>aaron-hunt</th>\n",
       "      <td>183.0</td>\n",
       "      <td>73.0</td>\n",
       "      <td>0.00</td>\n",
       "      <td>0.25</td>\n",
       "      <td>0.125</td>\n",
       "      <td>False</td>\n",
       "    </tr>\n",
       "    <tr>\n",
       "      <th>aaron-lennon</th>\n",
       "      <td>165.0</td>\n",
       "      <td>63.0</td>\n",
       "      <td>0.25</td>\n",
       "      <td>0.25</td>\n",
       "      <td>0.250</td>\n",
       "      <td>False</td>\n",
       "    </tr>\n",
       "    <tr>\n",
       "      <th>aaron-ramsey</th>\n",
       "      <td>178.0</td>\n",
       "      <td>76.0</td>\n",
       "      <td>0.00</td>\n",
       "      <td>0.00</td>\n",
       "      <td>0.000</td>\n",
       "      <td>False</td>\n",
       "    </tr>\n",
       "    <tr>\n",
       "      <th>abdelhamid-el-kaoutari</th>\n",
       "      <td>180.0</td>\n",
       "      <td>73.0</td>\n",
       "      <td>0.25</td>\n",
       "      <td>0.25</td>\n",
       "      <td>0.250</td>\n",
       "      <td>False</td>\n",
       "    </tr>\n",
       "    <tr>\n",
       "      <th>abdou-traore_2</th>\n",
       "      <td>180.0</td>\n",
       "      <td>74.0</td>\n",
       "      <td>0.75</td>\n",
       "      <td>0.75</td>\n",
       "      <td>0.750</td>\n",
       "      <td>True</td>\n",
       "    </tr>\n",
       "    <tr>\n",
       "      <th>abdoulaye-diallo_2</th>\n",
       "      <td>189.0</td>\n",
       "      <td>80.0</td>\n",
       "      <td>0.75</td>\n",
       "      <td>1.00</td>\n",
       "      <td>0.875</td>\n",
       "      <td>True</td>\n",
       "    </tr>\n",
       "    <tr>\n",
       "      <th>abdoulaye-keita_2</th>\n",
       "      <td>188.0</td>\n",
       "      <td>83.0</td>\n",
       "      <td>0.75</td>\n",
       "      <td>1.00</td>\n",
       "      <td>0.875</td>\n",
       "      <td>True</td>\n",
       "    </tr>\n",
       "    <tr>\n",
       "      <th>abdoulwhaid-sissoko</th>\n",
       "      <td>180.0</td>\n",
       "      <td>68.0</td>\n",
       "      <td>1.00</td>\n",
       "      <td>1.00</td>\n",
       "      <td>1.000</td>\n",
       "      <td>True</td>\n",
       "    </tr>\n",
       "    <tr>\n",
       "      <th>abdul-rahman-baba</th>\n",
       "      <td>179.0</td>\n",
       "      <td>70.0</td>\n",
       "      <td>0.75</td>\n",
       "      <td>1.00</td>\n",
       "      <td>0.875</td>\n",
       "      <td>True</td>\n",
       "    </tr>\n",
       "  </tbody>\n",
       "</table>\n",
       "</div>"
      ],
      "text/plain": [
       "                        height  weight  rater1  rater2  rateMean darkSkin\n",
       "playerShort                                                              \n",
       "aaron-hughes             182.0    71.0    0.25    0.00     0.125    False\n",
       "aaron-hunt               183.0    73.0    0.00    0.25     0.125    False\n",
       "aaron-lennon             165.0    63.0    0.25    0.25     0.250    False\n",
       "aaron-ramsey             178.0    76.0    0.00    0.00     0.000    False\n",
       "abdelhamid-el-kaoutari   180.0    73.0    0.25    0.25     0.250    False\n",
       "abdou-traore_2           180.0    74.0    0.75    0.75     0.750     True\n",
       "abdoulaye-diallo_2       189.0    80.0    0.75    1.00     0.875     True\n",
       "abdoulaye-keita_2        188.0    83.0    0.75    1.00     0.875     True\n",
       "abdoulwhaid-sissoko      180.0    68.0    1.00    1.00     1.000     True\n",
       "abdul-rahman-baba        179.0    70.0    0.75    1.00     0.875     True"
      ]
     },
     "execution_count": 15,
     "metadata": {},
     "output_type": "execute_result"
    }
   ],
   "source": [
    "df_players_description['darkSkin'] = df_players_description['rateMean']  >= 0.5\n",
    "df_players_description.head(10)"
   ]
  },
  {
   "cell_type": "code",
   "execution_count": 16,
   "metadata": {
    "collapsed": false
   },
   "outputs": [
    {
     "name": "stdout",
     "output_type": "stream",
     "text": [
      "height      0\n",
      "weight      0\n",
      "rater1      0\n",
      "rater2      0\n",
      "rateMean    0\n",
      "darkSkin    0\n",
      "dtype: int64\n"
     ]
    }
   ],
   "source": [
    "print(df_players_description.isnull().sum())"
   ]
  },
  {
   "cell_type": "code",
   "execution_count": 17,
   "metadata": {
    "collapsed": true
   },
   "outputs": [],
   "source": [
    "df_players_description =  df_players_description.dropna()"
   ]
  },
  {
   "cell_type": "markdown",
   "metadata": {},
   "source": [
    "## Random forest machine learning"
   ]
  },
  {
   "cell_type": "markdown",
   "metadata": {},
   "source": [
    "**First we train a RandomForestClassifier that given almost all of the features (except skin color ratings of course) outputs his skin color. We'll show that using the default settings it overfits to the training set, then try again with cross-validation**"
   ]
  },
  {
   "cell_type": "code",
   "execution_count": 18,
   "metadata": {
    "collapsed": false
   },
   "outputs": [],
   "source": [
    "df_players.head()\n",
    "df_players['darkSkin'] = df_players_description['darkSkin']\n",
    "\n",
    "X_all = df_players.drop(['rater1', 'rater2', 'darkSkin'], axis=1) # not in-place\n",
    "y_all = df_players_description['darkSkin']\n"
   ]
  },
  {
   "cell_type": "code",
   "execution_count": 19,
   "metadata": {
    "collapsed": false
   },
   "outputs": [
    {
     "data": {
      "text/html": [
       "<div>\n",
       "<table border=\"1\" class=\"dataframe\">\n",
       "  <thead>\n",
       "    <tr style=\"text-align: right;\">\n",
       "      <th></th>\n",
       "      <th>height</th>\n",
       "      <th>weight</th>\n",
       "      <th>games</th>\n",
       "      <th>victories</th>\n",
       "      <th>ties</th>\n",
       "      <th>defeats</th>\n",
       "      <th>goals</th>\n",
       "      <th>yellowCards</th>\n",
       "      <th>yellowReds</th>\n",
       "      <th>redCards</th>\n",
       "      <th>refNum</th>\n",
       "      <th>refCountry</th>\n",
       "      <th>meanIAT</th>\n",
       "      <th>nIAT</th>\n",
       "      <th>seIAT</th>\n",
       "      <th>meanExp</th>\n",
       "      <th>nExp</th>\n",
       "      <th>seExp</th>\n",
       "    </tr>\n",
       "    <tr>\n",
       "      <th>playerShort</th>\n",
       "      <th></th>\n",
       "      <th></th>\n",
       "      <th></th>\n",
       "      <th></th>\n",
       "      <th></th>\n",
       "      <th></th>\n",
       "      <th></th>\n",
       "      <th></th>\n",
       "      <th></th>\n",
       "      <th></th>\n",
       "      <th></th>\n",
       "      <th></th>\n",
       "      <th></th>\n",
       "      <th></th>\n",
       "      <th></th>\n",
       "      <th></th>\n",
       "      <th></th>\n",
       "      <th></th>\n",
       "    </tr>\n",
       "  </thead>\n",
       "  <tbody>\n",
       "    <tr>\n",
       "      <th>aaron-hughes</th>\n",
       "      <td>182.0</td>\n",
       "      <td>71.0</td>\n",
       "      <td>3.939759</td>\n",
       "      <td>1.487952</td>\n",
       "      <td>1.078313</td>\n",
       "      <td>1.373494</td>\n",
       "      <td>0.054217</td>\n",
       "      <td>0.114458</td>\n",
       "      <td>0.000000</td>\n",
       "      <td>0.000000</td>\n",
       "      <td>1612.656627</td>\n",
       "      <td>43.921687</td>\n",
       "      <td>0.346459</td>\n",
       "      <td>19710.156627</td>\n",
       "      <td>0.000652</td>\n",
       "      <td>0.494575</td>\n",
       "      <td>20637.277108</td>\n",
       "      <td>0.004065</td>\n",
       "    </tr>\n",
       "    <tr>\n",
       "      <th>aaron-hunt</th>\n",
       "      <td>183.0</td>\n",
       "      <td>73.0</td>\n",
       "      <td>3.393939</td>\n",
       "      <td>1.424242</td>\n",
       "      <td>0.737374</td>\n",
       "      <td>1.232323</td>\n",
       "      <td>0.626263</td>\n",
       "      <td>0.424242</td>\n",
       "      <td>0.000000</td>\n",
       "      <td>0.010101</td>\n",
       "      <td>1662.515152</td>\n",
       "      <td>25.070707</td>\n",
       "      <td>0.348818</td>\n",
       "      <td>26104.292929</td>\n",
       "      <td>0.000219</td>\n",
       "      <td>0.449220</td>\n",
       "      <td>26864.454545</td>\n",
       "      <td>0.000993</td>\n",
       "    </tr>\n",
       "    <tr>\n",
       "      <th>aaron-lennon</th>\n",
       "      <td>165.0</td>\n",
       "      <td>63.0</td>\n",
       "      <td>4.079208</td>\n",
       "      <td>1.980198</td>\n",
       "      <td>0.960396</td>\n",
       "      <td>1.138614</td>\n",
       "      <td>0.306931</td>\n",
       "      <td>0.108911</td>\n",
       "      <td>0.000000</td>\n",
       "      <td>0.000000</td>\n",
       "      <td>1598.871287</td>\n",
       "      <td>42.772277</td>\n",
       "      <td>0.345893</td>\n",
       "      <td>21234.861386</td>\n",
       "      <td>0.000367</td>\n",
       "      <td>0.491482</td>\n",
       "      <td>22238.742574</td>\n",
       "      <td>0.002032</td>\n",
       "    </tr>\n",
       "    <tr>\n",
       "      <th>aaron-ramsey</th>\n",
       "      <td>178.0</td>\n",
       "      <td>76.0</td>\n",
       "      <td>2.500000</td>\n",
       "      <td>1.442308</td>\n",
       "      <td>0.403846</td>\n",
       "      <td>0.653846</td>\n",
       "      <td>0.375000</td>\n",
       "      <td>0.298077</td>\n",
       "      <td>0.000000</td>\n",
       "      <td>0.009615</td>\n",
       "      <td>1668.500000</td>\n",
       "      <td>45.067308</td>\n",
       "      <td>0.346821</td>\n",
       "      <td>38285.826923</td>\n",
       "      <td>0.003334</td>\n",
       "      <td>0.514693</td>\n",
       "      <td>39719.980769</td>\n",
       "      <td>0.013522</td>\n",
       "    </tr>\n",
       "    <tr>\n",
       "      <th>abdelhamid-el-kaoutari</th>\n",
       "      <td>180.0</td>\n",
       "      <td>73.0</td>\n",
       "      <td>3.351351</td>\n",
       "      <td>1.108108</td>\n",
       "      <td>1.081081</td>\n",
       "      <td>1.162162</td>\n",
       "      <td>0.027027</td>\n",
       "      <td>0.216216</td>\n",
       "      <td>0.108108</td>\n",
       "      <td>0.054054</td>\n",
       "      <td>1610.891892</td>\n",
       "      <td>17.189189</td>\n",
       "      <td>0.331600</td>\n",
       "      <td>2832.351351</td>\n",
       "      <td>0.001488</td>\n",
       "      <td>0.335587</td>\n",
       "      <td>2953.837838</td>\n",
       "      <td>0.005296</td>\n",
       "    </tr>\n",
       "  </tbody>\n",
       "</table>\n",
       "</div>"
      ],
      "text/plain": [
       "                        height  weight     games  victories      ties  \\\n",
       "playerShort                                                             \n",
       "aaron-hughes             182.0    71.0  3.939759   1.487952  1.078313   \n",
       "aaron-hunt               183.0    73.0  3.393939   1.424242  0.737374   \n",
       "aaron-lennon             165.0    63.0  4.079208   1.980198  0.960396   \n",
       "aaron-ramsey             178.0    76.0  2.500000   1.442308  0.403846   \n",
       "abdelhamid-el-kaoutari   180.0    73.0  3.351351   1.108108  1.081081   \n",
       "\n",
       "                         defeats     goals  yellowCards  yellowReds  redCards  \\\n",
       "playerShort                                                                     \n",
       "aaron-hughes            1.373494  0.054217     0.114458    0.000000  0.000000   \n",
       "aaron-hunt              1.232323  0.626263     0.424242    0.000000  0.010101   \n",
       "aaron-lennon            1.138614  0.306931     0.108911    0.000000  0.000000   \n",
       "aaron-ramsey            0.653846  0.375000     0.298077    0.000000  0.009615   \n",
       "abdelhamid-el-kaoutari  1.162162  0.027027     0.216216    0.108108  0.054054   \n",
       "\n",
       "                             refNum  refCountry   meanIAT          nIAT  \\\n",
       "playerShort                                                               \n",
       "aaron-hughes            1612.656627   43.921687  0.346459  19710.156627   \n",
       "aaron-hunt              1662.515152   25.070707  0.348818  26104.292929   \n",
       "aaron-lennon            1598.871287   42.772277  0.345893  21234.861386   \n",
       "aaron-ramsey            1668.500000   45.067308  0.346821  38285.826923   \n",
       "abdelhamid-el-kaoutari  1610.891892   17.189189  0.331600   2832.351351   \n",
       "\n",
       "                           seIAT   meanExp          nExp     seExp  \n",
       "playerShort                                                         \n",
       "aaron-hughes            0.000652  0.494575  20637.277108  0.004065  \n",
       "aaron-hunt              0.000219  0.449220  26864.454545  0.000993  \n",
       "aaron-lennon            0.000367  0.491482  22238.742574  0.002032  \n",
       "aaron-ramsey            0.003334  0.514693  39719.980769  0.013522  \n",
       "abdelhamid-el-kaoutari  0.001488  0.335587   2953.837838  0.005296  "
      ]
     },
     "execution_count": 19,
     "metadata": {},
     "output_type": "execute_result"
    }
   ],
   "source": [
    "X_all.head()"
   ]
  },
  {
   "cell_type": "code",
   "execution_count": 20,
   "metadata": {
    "collapsed": false
   },
   "outputs": [
    {
     "name": "stdout",
     "output_type": "stream",
     "text": [
      "Accuracy on training set is 97.76%\n",
      "Accuracy:\n",
      "0.977611940299\n",
      "F1: \n",
      "0.950118764846\n",
      "Confusion matrix:\n",
      "[[717   0]\n",
      " [ 21 200]]\n",
      "-------\n",
      "Accuracy on testing set is 78.59%\n",
      "Accuracy:\n",
      "0.785942492013\n",
      "F1: \n",
      "0.390909090909\n",
      "Confusion matrix:\n",
      "[[449  20]\n",
      " [114  43]]\n",
      "-------\n"
     ]
    }
   ],
   "source": [
    "from sklearn import metrics\n",
    "from sklearn.ensemble import RandomForestClassifier\n",
    "from sklearn.cross_validation import train_test_split\n",
    "\n",
    "def print_metrics(y, y_pred):\n",
    "    # Print out some metrics judging the quality of the classification\n",
    "    print(\"Accuracy:\")\n",
    "    print(metrics.accuracy_score(y, y_pred))\n",
    "    print(\"F1: \")\n",
    "    print(metrics.f1_score(y, y_pred))\n",
    "    print(\"Confusion matrix:\")\n",
    "    print(metrics.confusion_matrix(y, y_pred))\n",
    "    print(\"-------\")\n",
    "\n",
    "# Split the data into 60% of training set, and 40% of test set\n",
    "X_train, X_test, y_train, y_test = train_test_split(X_all, y_all, test_size=0.4)\n",
    "\n",
    "clf_all = RandomForestClassifier()\n",
    "clf_all.fit(X_train, y_train)\n",
    "y_pred_train = clf_all.predict(X_train)\n",
    "y_pred_test = clf_all.predict(X_test)\n",
    "print('Accuracy on training set is {0:.2f}%'.format(metrics.accuracy_score(y_train, y_pred_train)*100))\n",
    "print_metrics(y_train, y_pred_train)\n",
    "print('Accuracy on testing set is {0:.2f}%'.format(metrics.accuracy_score(y_test, y_pred_test)*100))\n",
    "print_metrics(y_test, y_pred_test)"
   ]
  },
  {
   "cell_type": "markdown",
   "metadata": {},
   "source": [
    "**So, we obtain a nearly perfect classification accuracy on the training set but much worse on the test set. This isn't too surprising. With our small amount of data the random forest is likely overfitting to the jumble of numeric features we gave it. We will try reducing the maximum allowed height of the trees and see how the accuracy changes:**\n",
    "- max_depth: parameter governing height of the trees"
   ]
  },
  {
   "cell_type": "code",
   "execution_count": 21,
   "metadata": {
    "collapsed": false
   },
   "outputs": [
    {
     "name": "stdout",
     "output_type": "stream",
     "text": [
      "Accuracy on training set is 83.69%\n",
      "Accuracy:\n",
      "0.836886993603\n",
      "F1: \n",
      "0.49504950495\n",
      "Confusion matrix:\n",
      "[[710   7]\n",
      " [146  75]]\n",
      "-------\n",
      "Accuracy on testing set is 78.43%\n",
      "Accuracy:\n",
      "0.784345047923\n",
      "F1: \n",
      "0.334975369458\n",
      "Confusion matrix:\n",
      "[[457  12]\n",
      " [123  34]]\n",
      "-------\n"
     ]
    }
   ],
   "source": [
    "clf_shorter = RandomForestClassifier(max_depth=5)\n",
    "\n",
    "clf_shorter.fit(X_train, y_train)\n",
    "y_pred_train_shorter = clf_shorter.predict(X_train)\n",
    "y_pred_test_shorter = clf_shorter.predict(X_test)\n",
    "\n",
    "print('Accuracy on training set is {0:.2f}%'.format(metrics.accuracy_score(y_train, y_pred_train_shorter)*100))\n",
    "print_metrics(y_train, y_pred_train_shorter)\n",
    "print('Accuracy on testing set is {0:.2f}%'.format(metrics.accuracy_score(y_test, y_pred_test_shorter)*100))\n",
    "print_metrics(y_test, y_pred_test_shorter)"
   ]
  },
  {
   "cell_type": "markdown",
   "metadata": {},
   "source": [
    "**When we only allow short trees (max_depth <= 5) in our random forest it seems like it changes the overfitting issue, s.**"
   ]
  },
  {
   "cell_type": "markdown",
   "metadata": {},
   "source": [
    "**Next part: We start again with random forest, this time using cross validation.\n",
    "Let's start with a simple model: considering only height and weight, try to obtain the player's skin color.**"
   ]
  },
  {
   "cell_type": "code",
   "execution_count": 22,
   "metadata": {
    "collapsed": false
   },
   "outputs": [],
   "source": [
    "X = df_players_description[['height', 'weight']]\n",
    "y = df_players_description['darkSkin']\n",
    "clf = RandomForestClassifier(n_estimators=100)"
   ]
  },
  {
   "cell_type": "code",
   "execution_count": 23,
   "metadata": {
    "collapsed": false
   },
   "outputs": [
    {
     "name": "stdout",
     "output_type": "stream",
     "text": [
      "The accuracy is 81.07%\n"
     ]
    }
   ],
   "source": [
    "clf.fit(X,y)\n",
    "y_pred = clf.predict(X)\n",
    "print('The accuracy is {0:.2f}%'.format(metrics.accuracy_score(y, y_pred)*100))"
   ]
  },
  {
   "cell_type": "markdown",
   "metadata": {},
   "source": [
    "  81% accuracy can seem pretty good, but we must remember that we are training on the whole dataset so it doesn't mean much. If we would try to predict on unseen data, the result would be poor as we are probably overfitting the training set. Now let's use cross-validation!"
   ]
  },
  {
   "cell_type": "markdown",
   "metadata": {},
   "source": [
    "**Note: one example with train-test split**"
   ]
  },
  {
   "cell_type": "code",
   "execution_count": 24,
   "metadata": {
    "collapsed": false
   },
   "outputs": [
    {
     "name": "stdout",
     "output_type": "stream",
     "text": [
      "The accuracy is 68.85%\n"
     ]
    }
   ],
   "source": [
    "from sklearn.cross_validation import train_test_split\n",
    "\n",
    "# Split the data into 60% of training set, and 40% of test set\n",
    "X_train, X_test, y_train, y_test = train_test_split(X, y, test_size=0.4)\n",
    "clf.fit(X_train, y_train)\n",
    "y_pred = clf.predict(X_test)\n",
    "print('The accuracy is {0:.2f}%'.format(metrics.accuracy_score(y_test, y_pred)*100))"
   ]
  },
  {
   "cell_type": "markdown",
   "metadata": {
    "collapsed": true
   },
   "source": [
    "Training on 60% of the data gives around 70% accuracy. Let's try with a 20-fold cross validation."
   ]
  },
  {
   "cell_type": "code",
   "execution_count": 25,
   "metadata": {
    "collapsed": false
   },
   "outputs": [
    {
     "data": {
      "text/plain": [
       "count    20.000000\n",
       "mean      0.712868\n",
       "std       0.033552\n",
       "min       0.645570\n",
       "25%       0.699051\n",
       "50%       0.713405\n",
       "75%       0.736530\n",
       "max       0.759494\n",
       "dtype: float64"
      ]
     },
     "execution_count": 25,
     "metadata": {},
     "output_type": "execute_result"
    }
   ],
   "source": [
    "from sklearn.cross_validation import cross_val_score\n",
    "\n",
    "clf = RandomForestClassifier(n_estimators=100)\n",
    "scores = cross_val_score(clf, X, y, cv=20, scoring='accuracy')\n",
    "pd.Series(scores).describe()"
   ]
  },
  {
   "cell_type": "markdown",
   "metadata": {},
   "source": [
    "Median score is 72%, and the standard deviation is not too high. That a decent score, considering that we are only looking at two features: height and weight. Let's try to add game features and see how the score changes."
   ]
  },
  {
   "cell_type": "code",
   "execution_count": 26,
   "metadata": {
    "collapsed": false
   },
   "outputs": [
    {
     "data": {
      "text/html": [
       "<div>\n",
       "<table border=\"1\" class=\"dataframe\">\n",
       "  <thead>\n",
       "    <tr style=\"text-align: right;\">\n",
       "      <th></th>\n",
       "      <th>height</th>\n",
       "      <th>weight</th>\n",
       "      <th>games</th>\n",
       "      <th>victories</th>\n",
       "      <th>ties</th>\n",
       "      <th>defeats</th>\n",
       "      <th>goals</th>\n",
       "      <th>yellowCards</th>\n",
       "      <th>yellowReds</th>\n",
       "      <th>redCards</th>\n",
       "      <th>...</th>\n",
       "      <th>rater2</th>\n",
       "      <th>refNum</th>\n",
       "      <th>refCountry</th>\n",
       "      <th>meanIAT</th>\n",
       "      <th>nIAT</th>\n",
       "      <th>seIAT</th>\n",
       "      <th>meanExp</th>\n",
       "      <th>nExp</th>\n",
       "      <th>seExp</th>\n",
       "      <th>darkSkin</th>\n",
       "    </tr>\n",
       "    <tr>\n",
       "      <th>playerShort</th>\n",
       "      <th></th>\n",
       "      <th></th>\n",
       "      <th></th>\n",
       "      <th></th>\n",
       "      <th></th>\n",
       "      <th></th>\n",
       "      <th></th>\n",
       "      <th></th>\n",
       "      <th></th>\n",
       "      <th></th>\n",
       "      <th></th>\n",
       "      <th></th>\n",
       "      <th></th>\n",
       "      <th></th>\n",
       "      <th></th>\n",
       "      <th></th>\n",
       "      <th></th>\n",
       "      <th></th>\n",
       "      <th></th>\n",
       "      <th></th>\n",
       "      <th></th>\n",
       "    </tr>\n",
       "  </thead>\n",
       "  <tbody>\n",
       "    <tr>\n",
       "      <th>aaron-hughes</th>\n",
       "      <td>182.0</td>\n",
       "      <td>71.0</td>\n",
       "      <td>3.939759</td>\n",
       "      <td>1.487952</td>\n",
       "      <td>1.078313</td>\n",
       "      <td>1.373494</td>\n",
       "      <td>0.054217</td>\n",
       "      <td>0.114458</td>\n",
       "      <td>0.000000</td>\n",
       "      <td>0.000000</td>\n",
       "      <td>...</td>\n",
       "      <td>0.00</td>\n",
       "      <td>1612.656627</td>\n",
       "      <td>43.921687</td>\n",
       "      <td>0.346459</td>\n",
       "      <td>19710.156627</td>\n",
       "      <td>0.000652</td>\n",
       "      <td>0.494575</td>\n",
       "      <td>20637.277108</td>\n",
       "      <td>0.004065</td>\n",
       "      <td>False</td>\n",
       "    </tr>\n",
       "    <tr>\n",
       "      <th>aaron-hunt</th>\n",
       "      <td>183.0</td>\n",
       "      <td>73.0</td>\n",
       "      <td>3.393939</td>\n",
       "      <td>1.424242</td>\n",
       "      <td>0.737374</td>\n",
       "      <td>1.232323</td>\n",
       "      <td>0.626263</td>\n",
       "      <td>0.424242</td>\n",
       "      <td>0.000000</td>\n",
       "      <td>0.010101</td>\n",
       "      <td>...</td>\n",
       "      <td>0.25</td>\n",
       "      <td>1662.515152</td>\n",
       "      <td>25.070707</td>\n",
       "      <td>0.348818</td>\n",
       "      <td>26104.292929</td>\n",
       "      <td>0.000219</td>\n",
       "      <td>0.449220</td>\n",
       "      <td>26864.454545</td>\n",
       "      <td>0.000993</td>\n",
       "      <td>False</td>\n",
       "    </tr>\n",
       "    <tr>\n",
       "      <th>aaron-lennon</th>\n",
       "      <td>165.0</td>\n",
       "      <td>63.0</td>\n",
       "      <td>4.079208</td>\n",
       "      <td>1.980198</td>\n",
       "      <td>0.960396</td>\n",
       "      <td>1.138614</td>\n",
       "      <td>0.306931</td>\n",
       "      <td>0.108911</td>\n",
       "      <td>0.000000</td>\n",
       "      <td>0.000000</td>\n",
       "      <td>...</td>\n",
       "      <td>0.25</td>\n",
       "      <td>1598.871287</td>\n",
       "      <td>42.772277</td>\n",
       "      <td>0.345893</td>\n",
       "      <td>21234.861386</td>\n",
       "      <td>0.000367</td>\n",
       "      <td>0.491482</td>\n",
       "      <td>22238.742574</td>\n",
       "      <td>0.002032</td>\n",
       "      <td>False</td>\n",
       "    </tr>\n",
       "    <tr>\n",
       "      <th>aaron-ramsey</th>\n",
       "      <td>178.0</td>\n",
       "      <td>76.0</td>\n",
       "      <td>2.500000</td>\n",
       "      <td>1.442308</td>\n",
       "      <td>0.403846</td>\n",
       "      <td>0.653846</td>\n",
       "      <td>0.375000</td>\n",
       "      <td>0.298077</td>\n",
       "      <td>0.000000</td>\n",
       "      <td>0.009615</td>\n",
       "      <td>...</td>\n",
       "      <td>0.00</td>\n",
       "      <td>1668.500000</td>\n",
       "      <td>45.067308</td>\n",
       "      <td>0.346821</td>\n",
       "      <td>38285.826923</td>\n",
       "      <td>0.003334</td>\n",
       "      <td>0.514693</td>\n",
       "      <td>39719.980769</td>\n",
       "      <td>0.013522</td>\n",
       "      <td>False</td>\n",
       "    </tr>\n",
       "    <tr>\n",
       "      <th>abdelhamid-el-kaoutari</th>\n",
       "      <td>180.0</td>\n",
       "      <td>73.0</td>\n",
       "      <td>3.351351</td>\n",
       "      <td>1.108108</td>\n",
       "      <td>1.081081</td>\n",
       "      <td>1.162162</td>\n",
       "      <td>0.027027</td>\n",
       "      <td>0.216216</td>\n",
       "      <td>0.108108</td>\n",
       "      <td>0.054054</td>\n",
       "      <td>...</td>\n",
       "      <td>0.25</td>\n",
       "      <td>1610.891892</td>\n",
       "      <td>17.189189</td>\n",
       "      <td>0.331600</td>\n",
       "      <td>2832.351351</td>\n",
       "      <td>0.001488</td>\n",
       "      <td>0.335587</td>\n",
       "      <td>2953.837838</td>\n",
       "      <td>0.005296</td>\n",
       "      <td>False</td>\n",
       "    </tr>\n",
       "  </tbody>\n",
       "</table>\n",
       "<p>5 rows × 21 columns</p>\n",
       "</div>"
      ],
      "text/plain": [
       "                        height  weight     games  victories      ties  \\\n",
       "playerShort                                                             \n",
       "aaron-hughes             182.0    71.0  3.939759   1.487952  1.078313   \n",
       "aaron-hunt               183.0    73.0  3.393939   1.424242  0.737374   \n",
       "aaron-lennon             165.0    63.0  4.079208   1.980198  0.960396   \n",
       "aaron-ramsey             178.0    76.0  2.500000   1.442308  0.403846   \n",
       "abdelhamid-el-kaoutari   180.0    73.0  3.351351   1.108108  1.081081   \n",
       "\n",
       "                         defeats     goals  yellowCards  yellowReds  redCards  \\\n",
       "playerShort                                                                     \n",
       "aaron-hughes            1.373494  0.054217     0.114458    0.000000  0.000000   \n",
       "aaron-hunt              1.232323  0.626263     0.424242    0.000000  0.010101   \n",
       "aaron-lennon            1.138614  0.306931     0.108911    0.000000  0.000000   \n",
       "aaron-ramsey            0.653846  0.375000     0.298077    0.000000  0.009615   \n",
       "abdelhamid-el-kaoutari  1.162162  0.027027     0.216216    0.108108  0.054054   \n",
       "\n",
       "                          ...     rater2       refNum  refCountry   meanIAT  \\\n",
       "playerShort               ...                                                 \n",
       "aaron-hughes              ...       0.00  1612.656627   43.921687  0.346459   \n",
       "aaron-hunt                ...       0.25  1662.515152   25.070707  0.348818   \n",
       "aaron-lennon              ...       0.25  1598.871287   42.772277  0.345893   \n",
       "aaron-ramsey              ...       0.00  1668.500000   45.067308  0.346821   \n",
       "abdelhamid-el-kaoutari    ...       0.25  1610.891892   17.189189  0.331600   \n",
       "\n",
       "                                nIAT     seIAT   meanExp          nExp  \\\n",
       "playerShort                                                              \n",
       "aaron-hughes            19710.156627  0.000652  0.494575  20637.277108   \n",
       "aaron-hunt              26104.292929  0.000219  0.449220  26864.454545   \n",
       "aaron-lennon            21234.861386  0.000367  0.491482  22238.742574   \n",
       "aaron-ramsey            38285.826923  0.003334  0.514693  39719.980769   \n",
       "abdelhamid-el-kaoutari   2832.351351  0.001488  0.335587   2953.837838   \n",
       "\n",
       "                           seExp  darkSkin  \n",
       "playerShort                                 \n",
       "aaron-hughes            0.004065     False  \n",
       "aaron-hunt              0.000993     False  \n",
       "aaron-lennon            0.002032     False  \n",
       "aaron-ramsey            0.013522     False  \n",
       "abdelhamid-el-kaoutari  0.005296     False  \n",
       "\n",
       "[5 rows x 21 columns]"
      ]
     },
     "execution_count": 26,
     "metadata": {},
     "output_type": "execute_result"
    }
   ],
   "source": [
    "df_players.head(5)"
   ]
  },
  {
   "cell_type": "code",
   "execution_count": 27,
   "metadata": {
    "collapsed": true
   },
   "outputs": [],
   "source": [
    "def random_forest_scores(dataframe, features, target=\"darkSkin\", estimators=100, folds=20):\n",
    "    clf = RandomForestClassifier(n_estimators=estimators)\n",
    "    X = dataframe[features]\n",
    "    y = list(dataframe[\"darkSkin\"].values)\n",
    "    \n",
    "    # Cross validation scores\n",
    "    scores = cross_val_score(clf, X, y, cv=folds, scoring='accuracy')\n",
    "    \n",
    "    # Train again to get feature importances\n",
    "    X_train, _, y_train, _ = train_test_split(X, y, test_size=0.4)\n",
    "    clf.fit(X_train, y_train)\n",
    "    \n",
    "    return scores, clf.feature_importances_"
   ]
  },
  {
   "cell_type": "code",
   "execution_count": 28,
   "metadata": {
    "collapsed": false
   },
   "outputs": [],
   "source": [
    "df_players = df_players.dropna()"
   ]
  },
  {
   "cell_type": "code",
   "execution_count": 29,
   "metadata": {
    "collapsed": true
   },
   "outputs": [],
   "source": [
    "possible_features = ['height', 'weight', 'games', 'victories', 'ties', 'defeats', 'goals', 'yellowCards', 'yellowReds', 'redCards']"
   ]
  },
  {
   "cell_type": "code",
   "execution_count": 30,
   "metadata": {
    "collapsed": false
   },
   "outputs": [],
   "source": [
    "scores, importances = random_forest_scores(df_players, possible_features)"
   ]
  },
  {
   "cell_type": "code",
   "execution_count": 31,
   "metadata": {
    "collapsed": false
   },
   "outputs": [
    {
     "data": {
      "text/plain": [
       "count    20.000000\n",
       "mean      0.752565\n",
       "std       0.023749\n",
       "min       0.705128\n",
       "25%       0.743590\n",
       "50%       0.751623\n",
       "75%       0.766983\n",
       "max       0.794872\n",
       "dtype: float64"
      ]
     },
     "execution_count": 31,
     "metadata": {},
     "output_type": "execute_result"
    }
   ],
   "source": [
    "pd.Series(scores).describe()"
   ]
  },
  {
   "cell_type": "markdown",
   "metadata": {},
   "source": [
    "Adding features adds around 3% of precision."
   ]
  },
  {
   "cell_type": "code",
   "execution_count": 32,
   "metadata": {
    "collapsed": false
   },
   "outputs": [],
   "source": [
    "def plot_feature_importances(possible_features, importances):\n",
    "    df_feature_importances = pd.DataFrame({\"features\": possible_features, \"importances\": importances})\n",
    "    df_feature_importances = df_feature_importances.set_index(\"features\")\n",
    "    df_feature_importances = df_feature_importances.sort_values(\"importances\", ascending=False)\n",
    "    df_feature_importances.plot(kind=\"bar\")"
   ]
  },
  {
   "cell_type": "code",
   "execution_count": 33,
   "metadata": {
    "collapsed": false
   },
   "outputs": [
    {
     "data": {
      "image/png": "[encoded data removed]",
      "text/plain": [
       "<matplotlib.figure.Figure at 0x118d77588>"
      ]
     },
     "metadata": {},
     "output_type": "display_data"
    }
   ],
   "source": [
    "plot_feature_importances(possible_features, importances)"
   ]
  },
  {
   "cell_type": "code",
   "execution_count": 34,
   "metadata": {
    "collapsed": false
   },
   "outputs": [],
   "source": [
    "possible_features_2 = list(possible_features)\n",
    "possible_features_2.remove(\"goals\")"
   ]
  },
  {
   "cell_type": "code",
   "execution_count": 35,
   "metadata": {
    "collapsed": false
   },
   "outputs": [],
   "source": [
    "scores2, importances2 = random_forest_scores(df_players, possible_features_2)"
   ]
  },
  {
   "cell_type": "code",
   "execution_count": 36,
   "metadata": {
    "collapsed": false
   },
   "outputs": [
    {
     "data": {
      "text/plain": [
       "count    20.000000\n",
       "mean      0.751940\n",
       "std       0.017803\n",
       "min       0.708861\n",
       "25%       0.743590\n",
       "50%       0.756410\n",
       "75%       0.766234\n",
       "max       0.784810\n",
       "dtype: float64"
      ]
     },
     "execution_count": 36,
     "metadata": {},
     "output_type": "execute_result"
    }
   ],
   "source": [
    "pd.Series(scores2).describe()"
   ]
  },
  {
   "cell_type": "code",
   "execution_count": 37,
   "metadata": {
    "collapsed": false
   },
   "outputs": [
    {
     "data": {
      "text/plain": [
       "count    20.000000\n",
       "mean      0.752565\n",
       "std       0.023749\n",
       "min       0.705128\n",
       "25%       0.743590\n",
       "50%       0.751623\n",
       "75%       0.766983\n",
       "max       0.794872\n",
       "dtype: float64"
      ]
     },
     "execution_count": 37,
     "metadata": {},
     "output_type": "execute_result"
    }
   ],
   "source": [
    "pd.Series(scores).describe()"
   ]
  },
  {
   "cell_type": "markdown",
   "metadata": {},
   "source": [
    "**Let's now try to incorporate the information about racial bias in each referee's country of origin.**\n",
    "\n",
    "Previously we computed the average meanIAT and meanExp values for each player over all referee-player dyads. We again use the existing meanIAT and meanExp information from each dyad to create two new features for each player: stdIAT and stdExp. Note that this is not the same calculation as averaging the standard deviations _seIAT_ and _seExp_ from each dyad - on a high-level stdIAT and stdExp indicate the variance in referee nationalities (and potentially biases) over  all matches in which the player played.\n",
    "\n",
    "This gives us four racial bias-related features:\n",
    "- meanIAT = average of meanIAT values over all dyads containing the given player\n",
    "- meanExp = average of meanExp values over all dyads containing the given player\n",
    "- stdIAT = std deviation of meanIAT values over all dyads containing the given player. General idea: has this player been referee'd by a diverse group of referees?\n",
    "- stdExp = std deviation of meanExp values over all dyads containing the given player\n",
    "\n",
    "**We also computed a meanIAT_carded features, which is the average of meanIAT values over all dyads where the player received at least one card from that referee. But we commented it out because it didn't seem to work well**"
   ]
  },
  {
   "cell_type": "code",
   "execution_count": 38,
   "metadata": {
    "collapsed": true
   },
   "outputs": [],
   "source": [
    "#Not going to use this feature after all (meanIAT_carded)\n",
    "#df['meanIAT_carded'] = df.apply(lambda x: x.meanIAT*(x.yellowCards+x.yellowReds+x.redCards), axis=1)\n",
    "#df_players[['stdIAT','stdExp', 'stdIAT_carded']] = df_by_player['meanIAT', 'meanExp', 'meanIAT_carded'].agg(np.std)\n",
    "df_players[['stdIAT','stdExp']] = df_by_player['meanIAT', 'meanExp'].agg(np.std)"
   ]
  },
  {
   "cell_type": "markdown",
   "metadata": {},
   "source": [
    "**We check that our new standard deviation features were computed correctly**"
   ]
  },
  {
   "cell_type": "code",
   "execution_count": 39,
   "metadata": {
    "collapsed": false
   },
   "outputs": [
    {
     "data": {
      "text/html": [
       "<div>\n",
       "<table border=\"1\" class=\"dataframe\">\n",
       "  <thead>\n",
       "    <tr style=\"text-align: right;\">\n",
       "      <th></th>\n",
       "      <th>height</th>\n",
       "      <th>weight</th>\n",
       "      <th>games</th>\n",
       "      <th>victories</th>\n",
       "      <th>ties</th>\n",
       "      <th>defeats</th>\n",
       "      <th>goals</th>\n",
       "      <th>yellowCards</th>\n",
       "      <th>yellowReds</th>\n",
       "      <th>redCards</th>\n",
       "      <th>...</th>\n",
       "      <th>refCountry</th>\n",
       "      <th>meanIAT</th>\n",
       "      <th>nIAT</th>\n",
       "      <th>seIAT</th>\n",
       "      <th>meanExp</th>\n",
       "      <th>nExp</th>\n",
       "      <th>seExp</th>\n",
       "      <th>darkSkin</th>\n",
       "      <th>stdIAT</th>\n",
       "      <th>stdExp</th>\n",
       "    </tr>\n",
       "    <tr>\n",
       "      <th>playerShort</th>\n",
       "      <th></th>\n",
       "      <th></th>\n",
       "      <th></th>\n",
       "      <th></th>\n",
       "      <th></th>\n",
       "      <th></th>\n",
       "      <th></th>\n",
       "      <th></th>\n",
       "      <th></th>\n",
       "      <th></th>\n",
       "      <th></th>\n",
       "      <th></th>\n",
       "      <th></th>\n",
       "      <th></th>\n",
       "      <th></th>\n",
       "      <th></th>\n",
       "      <th></th>\n",
       "      <th></th>\n",
       "      <th></th>\n",
       "      <th></th>\n",
       "      <th></th>\n",
       "    </tr>\n",
       "  </thead>\n",
       "  <tbody>\n",
       "    <tr>\n",
       "      <th>dani-estrada</th>\n",
       "      <td>179.0</td>\n",
       "      <td>74.0</td>\n",
       "      <td>3.250000</td>\n",
       "      <td>1.300000</td>\n",
       "      <td>0.825000</td>\n",
       "      <td>1.125000</td>\n",
       "      <td>0.075000</td>\n",
       "      <td>0.650000</td>\n",
       "      <td>0.050000</td>\n",
       "      <td>0.000000</td>\n",
       "      <td>...</td>\n",
       "      <td>6.075000</td>\n",
       "      <td>0.367864</td>\n",
       "      <td>1716.750000</td>\n",
       "      <td>0.000273</td>\n",
       "      <td>0.591116</td>\n",
       "      <td>1824.225000</td>\n",
       "      <td>0.001194</td>\n",
       "      <td>False</td>\n",
       "      <td>0.015485</td>\n",
       "      <td>0.050200</td>\n",
       "    </tr>\n",
       "    <tr>\n",
       "      <th>fabio-coentrao</th>\n",
       "      <td>179.0</td>\n",
       "      <td>70.0</td>\n",
       "      <td>2.469388</td>\n",
       "      <td>1.520408</td>\n",
       "      <td>0.387755</td>\n",
       "      <td>0.561224</td>\n",
       "      <td>0.163265</td>\n",
       "      <td>0.520408</td>\n",
       "      <td>0.051020</td>\n",
       "      <td>0.010204</td>\n",
       "      <td>...</td>\n",
       "      <td>43.469388</td>\n",
       "      <td>0.367707</td>\n",
       "      <td>25214.183673</td>\n",
       "      <td>0.000408</td>\n",
       "      <td>0.605686</td>\n",
       "      <td>25998.081633</td>\n",
       "      <td>0.001919</td>\n",
       "      <td>False</td>\n",
       "      <td>0.028527</td>\n",
       "      <td>0.206101</td>\n",
       "    </tr>\n",
       "    <tr>\n",
       "      <th>kalilou-traore</th>\n",
       "      <td>192.0</td>\n",
       "      <td>76.0</td>\n",
       "      <td>1.816667</td>\n",
       "      <td>0.650000</td>\n",
       "      <td>0.383333</td>\n",
       "      <td>0.783333</td>\n",
       "      <td>0.216667</td>\n",
       "      <td>0.450000</td>\n",
       "      <td>0.033333</td>\n",
       "      <td>0.016667</td>\n",
       "      <td>...</td>\n",
       "      <td>42.200000</td>\n",
       "      <td>0.336878</td>\n",
       "      <td>3672.166667</td>\n",
       "      <td>0.003467</td>\n",
       "      <td>0.414488</td>\n",
       "      <td>3828.800000</td>\n",
       "      <td>0.013445</td>\n",
       "      <td>True</td>\n",
       "      <td>0.071035</td>\n",
       "      <td>0.419451</td>\n",
       "    </tr>\n",
       "    <tr>\n",
       "      <th>paco-alcacer</th>\n",
       "      <td>174.0</td>\n",
       "      <td>71.0</td>\n",
       "      <td>1.790698</td>\n",
       "      <td>0.790698</td>\n",
       "      <td>0.511628</td>\n",
       "      <td>0.488372</td>\n",
       "      <td>0.558140</td>\n",
       "      <td>0.162791</td>\n",
       "      <td>0.000000</td>\n",
       "      <td>0.000000</td>\n",
       "      <td>...</td>\n",
       "      <td>24.790698</td>\n",
       "      <td>0.354884</td>\n",
       "      <td>4901.069767</td>\n",
       "      <td>0.001373</td>\n",
       "      <td>0.538454</td>\n",
       "      <td>5140.511628</td>\n",
       "      <td>0.005777</td>\n",
       "      <td>False</td>\n",
       "      <td>0.047627</td>\n",
       "      <td>0.232959</td>\n",
       "    </tr>\n",
       "    <tr>\n",
       "      <th>nene_2</th>\n",
       "      <td>181.0</td>\n",
       "      <td>70.0</td>\n",
       "      <td>3.073394</td>\n",
       "      <td>1.211009</td>\n",
       "      <td>0.788991</td>\n",
       "      <td>1.073394</td>\n",
       "      <td>0.825688</td>\n",
       "      <td>0.376147</td>\n",
       "      <td>0.009174</td>\n",
       "      <td>0.009174</td>\n",
       "      <td>...</td>\n",
       "      <td>27.761468</td>\n",
       "      <td>0.352273</td>\n",
       "      <td>4975.816514</td>\n",
       "      <td>0.000604</td>\n",
       "      <td>0.477288</td>\n",
       "      <td>5215.467890</td>\n",
       "      <td>0.003362</td>\n",
       "      <td>False</td>\n",
       "      <td>0.024150</td>\n",
       "      <td>0.157595</td>\n",
       "    </tr>\n",
       "  </tbody>\n",
       "</table>\n",
       "<p>5 rows × 23 columns</p>\n",
       "</div>"
      ],
      "text/plain": [
       "                height  weight     games  victories      ties   defeats  \\\n",
       "playerShort                                                               \n",
       "dani-estrada     179.0    74.0  3.250000   1.300000  0.825000  1.125000   \n",
       "fabio-coentrao   179.0    70.0  2.469388   1.520408  0.387755  0.561224   \n",
       "kalilou-traore   192.0    76.0  1.816667   0.650000  0.383333  0.783333   \n",
       "paco-alcacer     174.0    71.0  1.790698   0.790698  0.511628  0.488372   \n",
       "nene_2           181.0    70.0  3.073394   1.211009  0.788991  1.073394   \n",
       "\n",
       "                   goals  yellowCards  yellowReds  redCards    ...     \\\n",
       "playerShort                                                    ...      \n",
       "dani-estrada    0.075000     0.650000    0.050000  0.000000    ...      \n",
       "fabio-coentrao  0.163265     0.520408    0.051020  0.010204    ...      \n",
       "kalilou-traore  0.216667     0.450000    0.033333  0.016667    ...      \n",
       "paco-alcacer    0.558140     0.162791    0.000000  0.000000    ...      \n",
       "nene_2          0.825688     0.376147    0.009174  0.009174    ...      \n",
       "\n",
       "                refCountry   meanIAT          nIAT     seIAT   meanExp  \\\n",
       "playerShort                                                              \n",
       "dani-estrada      6.075000  0.367864   1716.750000  0.000273  0.591116   \n",
       "fabio-coentrao   43.469388  0.367707  25214.183673  0.000408  0.605686   \n",
       "kalilou-traore   42.200000  0.336878   3672.166667  0.003467  0.414488   \n",
       "paco-alcacer     24.790698  0.354884   4901.069767  0.001373  0.538454   \n",
       "nene_2           27.761468  0.352273   4975.816514  0.000604  0.477288   \n",
       "\n",
       "                        nExp     seExp  darkSkin    stdIAT    stdExp  \n",
       "playerShort                                                           \n",
       "dani-estrada     1824.225000  0.001194     False  0.015485  0.050200  \n",
       "fabio-coentrao  25998.081633  0.001919     False  0.028527  0.206101  \n",
       "kalilou-traore   3828.800000  0.013445      True  0.071035  0.419451  \n",
       "paco-alcacer     5140.511628  0.005777     False  0.047627  0.232959  \n",
       "nene_2           5215.467890  0.003362     False  0.024150  0.157595  \n",
       "\n",
       "[5 rows x 23 columns]"
      ]
     },
     "execution_count": 39,
     "metadata": {},
     "output_type": "execute_result"
    }
   ],
   "source": [
    "df_players.sample(5)"
   ]
  },
  {
   "cell_type": "code",
   "execution_count": 40,
   "metadata": {
    "collapsed": false
   },
   "outputs": [
    {
     "data": {
      "text/html": [
       "<div>\n",
       "<table border=\"1\" class=\"dataframe\">\n",
       "  <thead>\n",
       "    <tr style=\"text-align: right;\">\n",
       "      <th></th>\n",
       "      <th>height</th>\n",
       "      <th>weight</th>\n",
       "      <th>games</th>\n",
       "      <th>victories</th>\n",
       "      <th>ties</th>\n",
       "      <th>defeats</th>\n",
       "      <th>goals</th>\n",
       "      <th>yellowCards</th>\n",
       "      <th>yellowReds</th>\n",
       "      <th>redCards</th>\n",
       "      <th>...</th>\n",
       "      <th>refCountry</th>\n",
       "      <th>meanIAT</th>\n",
       "      <th>nIAT</th>\n",
       "      <th>seIAT</th>\n",
       "      <th>meanExp</th>\n",
       "      <th>nExp</th>\n",
       "      <th>seExp</th>\n",
       "      <th>darkSkin</th>\n",
       "      <th>stdIAT</th>\n",
       "      <th>stdExp</th>\n",
       "    </tr>\n",
       "    <tr>\n",
       "      <th>playerShort</th>\n",
       "      <th></th>\n",
       "      <th></th>\n",
       "      <th></th>\n",
       "      <th></th>\n",
       "      <th></th>\n",
       "      <th></th>\n",
       "      <th></th>\n",
       "      <th></th>\n",
       "      <th></th>\n",
       "      <th></th>\n",
       "      <th></th>\n",
       "      <th></th>\n",
       "      <th></th>\n",
       "      <th></th>\n",
       "      <th></th>\n",
       "      <th></th>\n",
       "      <th></th>\n",
       "      <th></th>\n",
       "      <th></th>\n",
       "      <th></th>\n",
       "      <th></th>\n",
       "    </tr>\n",
       "  </thead>\n",
       "  <tbody>\n",
       "    <tr>\n",
       "      <th>baptiste-aloe</th>\n",
       "      <td>184.0</td>\n",
       "      <td>77.0</td>\n",
       "      <td>1.0</td>\n",
       "      <td>1.0</td>\n",
       "      <td>0.0</td>\n",
       "      <td>0.0</td>\n",
       "      <td>0.0</td>\n",
       "      <td>1.0</td>\n",
       "      <td>0.0</td>\n",
       "      <td>0.0</td>\n",
       "      <td>...</td>\n",
       "      <td>80.0</td>\n",
       "      <td>0.396512</td>\n",
       "      <td>2273.0</td>\n",
       "      <td>0.000187</td>\n",
       "      <td>1.031407</td>\n",
       "      <td>2388.0</td>\n",
       "      <td>0.000931</td>\n",
       "      <td>False</td>\n",
       "      <td>NaN</td>\n",
       "      <td>NaN</td>\n",
       "    </tr>\n",
       "    <tr>\n",
       "      <th>charlie-took</th>\n",
       "      <td>184.0</td>\n",
       "      <td>78.0</td>\n",
       "      <td>1.0</td>\n",
       "      <td>0.0</td>\n",
       "      <td>1.0</td>\n",
       "      <td>0.0</td>\n",
       "      <td>0.0</td>\n",
       "      <td>0.0</td>\n",
       "      <td>0.0</td>\n",
       "      <td>0.0</td>\n",
       "      <td>...</td>\n",
       "      <td>3.0</td>\n",
       "      <td>0.369894</td>\n",
       "      <td>1785.0</td>\n",
       "      <td>0.000229</td>\n",
       "      <td>0.588297</td>\n",
       "      <td>1897.0</td>\n",
       "      <td>0.001002</td>\n",
       "      <td>True</td>\n",
       "      <td>NaN</td>\n",
       "      <td>NaN</td>\n",
       "    </tr>\n",
       "    <tr>\n",
       "      <th>kevin-osei</th>\n",
       "      <td>173.0</td>\n",
       "      <td>71.0</td>\n",
       "      <td>1.0</td>\n",
       "      <td>0.0</td>\n",
       "      <td>0.0</td>\n",
       "      <td>1.0</td>\n",
       "      <td>0.0</td>\n",
       "      <td>0.0</td>\n",
       "      <td>0.0</td>\n",
       "      <td>0.0</td>\n",
       "      <td>...</td>\n",
       "      <td>57.0</td>\n",
       "      <td>0.337539</td>\n",
       "      <td>1319.0</td>\n",
       "      <td>0.000331</td>\n",
       "      <td>0.394139</td>\n",
       "      <td>1365.0</td>\n",
       "      <td>0.001717</td>\n",
       "      <td>True</td>\n",
       "      <td>NaN</td>\n",
       "      <td>NaN</td>\n",
       "    </tr>\n",
       "  </tbody>\n",
       "</table>\n",
       "<p>3 rows × 23 columns</p>\n",
       "</div>"
      ],
      "text/plain": [
       "               height  weight  games  victories  ties  defeats  goals  \\\n",
       "playerShort                                                             \n",
       "baptiste-aloe   184.0    77.0    1.0        1.0   0.0      0.0    0.0   \n",
       "charlie-took    184.0    78.0    1.0        0.0   1.0      0.0    0.0   \n",
       "kevin-osei      173.0    71.0    1.0        0.0   0.0      1.0    0.0   \n",
       "\n",
       "               yellowCards  yellowReds  redCards   ...    refCountry  \\\n",
       "playerShort                                        ...                 \n",
       "baptiste-aloe          1.0         0.0       0.0   ...          80.0   \n",
       "charlie-took           0.0         0.0       0.0   ...           3.0   \n",
       "kevin-osei             0.0         0.0       0.0   ...          57.0   \n",
       "\n",
       "                meanIAT    nIAT     seIAT   meanExp    nExp     seExp  \\\n",
       "playerShort                                                             \n",
       "baptiste-aloe  0.396512  2273.0  0.000187  1.031407  2388.0  0.000931   \n",
       "charlie-took   0.369894  1785.0  0.000229  0.588297  1897.0  0.001002   \n",
       "kevin-osei     0.337539  1319.0  0.000331  0.394139  1365.0  0.001717   \n",
       "\n",
       "               darkSkin  stdIAT  stdExp  \n",
       "playerShort                              \n",
       "baptiste-aloe     False     NaN     NaN  \n",
       "charlie-took       True     NaN     NaN  \n",
       "kevin-osei         True     NaN     NaN  \n",
       "\n",
       "[3 rows x 23 columns]"
      ]
     },
     "execution_count": 40,
     "metadata": {},
     "output_type": "execute_result"
    }
   ],
   "source": [
    "df_players[df_players['stdExp'].isnull()]#.sum()"
   ]
  },
  {
   "cell_type": "code",
   "execution_count": 41,
   "metadata": {
    "collapsed": false
   },
   "outputs": [
    {
     "data": {
      "text/html": [
       "<div>\n",
       "<table border=\"1\" class=\"dataframe\">\n",
       "  <thead>\n",
       "    <tr style=\"text-align: right;\">\n",
       "      <th></th>\n",
       "      <th>height</th>\n",
       "      <th>weight</th>\n",
       "      <th>games</th>\n",
       "      <th>victories</th>\n",
       "      <th>ties</th>\n",
       "      <th>defeats</th>\n",
       "      <th>goals</th>\n",
       "      <th>yellowCards</th>\n",
       "      <th>yellowReds</th>\n",
       "      <th>redCards</th>\n",
       "      <th>...</th>\n",
       "      <th>refCountry</th>\n",
       "      <th>meanIAT</th>\n",
       "      <th>nIAT</th>\n",
       "      <th>seIAT</th>\n",
       "      <th>meanExp</th>\n",
       "      <th>nExp</th>\n",
       "      <th>seExp</th>\n",
       "      <th>darkSkin</th>\n",
       "      <th>stdIAT</th>\n",
       "      <th>stdExp</th>\n",
       "    </tr>\n",
       "    <tr>\n",
       "      <th>playerShort</th>\n",
       "      <th></th>\n",
       "      <th></th>\n",
       "      <th></th>\n",
       "      <th></th>\n",
       "      <th></th>\n",
       "      <th></th>\n",
       "      <th></th>\n",
       "      <th></th>\n",
       "      <th></th>\n",
       "      <th></th>\n",
       "      <th></th>\n",
       "      <th></th>\n",
       "      <th></th>\n",
       "      <th></th>\n",
       "      <th></th>\n",
       "      <th></th>\n",
       "      <th></th>\n",
       "      <th></th>\n",
       "      <th></th>\n",
       "      <th></th>\n",
       "      <th></th>\n",
       "    </tr>\n",
       "  </thead>\n",
       "  <tbody>\n",
       "    <tr>\n",
       "      <th>baptiste-aloe</th>\n",
       "      <td>184.0</td>\n",
       "      <td>77.0</td>\n",
       "      <td>1.0</td>\n",
       "      <td>1.0</td>\n",
       "      <td>0.0</td>\n",
       "      <td>0.0</td>\n",
       "      <td>0.0</td>\n",
       "      <td>1.0</td>\n",
       "      <td>0.0</td>\n",
       "      <td>0.0</td>\n",
       "      <td>...</td>\n",
       "      <td>80.0</td>\n",
       "      <td>0.396512</td>\n",
       "      <td>2273.0</td>\n",
       "      <td>0.000187</td>\n",
       "      <td>1.031407</td>\n",
       "      <td>2388.0</td>\n",
       "      <td>0.000931</td>\n",
       "      <td>False</td>\n",
       "      <td>NaN</td>\n",
       "      <td>NaN</td>\n",
       "    </tr>\n",
       "    <tr>\n",
       "      <th>charlie-took</th>\n",
       "      <td>184.0</td>\n",
       "      <td>78.0</td>\n",
       "      <td>1.0</td>\n",
       "      <td>0.0</td>\n",
       "      <td>1.0</td>\n",
       "      <td>0.0</td>\n",
       "      <td>0.0</td>\n",
       "      <td>0.0</td>\n",
       "      <td>0.0</td>\n",
       "      <td>0.0</td>\n",
       "      <td>...</td>\n",
       "      <td>3.0</td>\n",
       "      <td>0.369894</td>\n",
       "      <td>1785.0</td>\n",
       "      <td>0.000229</td>\n",
       "      <td>0.588297</td>\n",
       "      <td>1897.0</td>\n",
       "      <td>0.001002</td>\n",
       "      <td>True</td>\n",
       "      <td>NaN</td>\n",
       "      <td>NaN</td>\n",
       "    </tr>\n",
       "    <tr>\n",
       "      <th>kevin-osei</th>\n",
       "      <td>173.0</td>\n",
       "      <td>71.0</td>\n",
       "      <td>1.0</td>\n",
       "      <td>0.0</td>\n",
       "      <td>0.0</td>\n",
       "      <td>1.0</td>\n",
       "      <td>0.0</td>\n",
       "      <td>0.0</td>\n",
       "      <td>0.0</td>\n",
       "      <td>0.0</td>\n",
       "      <td>...</td>\n",
       "      <td>57.0</td>\n",
       "      <td>0.337539</td>\n",
       "      <td>1319.0</td>\n",
       "      <td>0.000331</td>\n",
       "      <td>0.394139</td>\n",
       "      <td>1365.0</td>\n",
       "      <td>0.001717</td>\n",
       "      <td>True</td>\n",
       "      <td>NaN</td>\n",
       "      <td>NaN</td>\n",
       "    </tr>\n",
       "  </tbody>\n",
       "</table>\n",
       "<p>3 rows × 23 columns</p>\n",
       "</div>"
      ],
      "text/plain": [
       "               height  weight  games  victories  ties  defeats  goals  \\\n",
       "playerShort                                                             \n",
       "baptiste-aloe   184.0    77.0    1.0        1.0   0.0      0.0    0.0   \n",
       "charlie-took    184.0    78.0    1.0        0.0   1.0      0.0    0.0   \n",
       "kevin-osei      173.0    71.0    1.0        0.0   0.0      1.0    0.0   \n",
       "\n",
       "               yellowCards  yellowReds  redCards   ...    refCountry  \\\n",
       "playerShort                                        ...                 \n",
       "baptiste-aloe          1.0         0.0       0.0   ...          80.0   \n",
       "charlie-took           0.0         0.0       0.0   ...           3.0   \n",
       "kevin-osei             0.0         0.0       0.0   ...          57.0   \n",
       "\n",
       "                meanIAT    nIAT     seIAT   meanExp    nExp     seExp  \\\n",
       "playerShort                                                             \n",
       "baptiste-aloe  0.396512  2273.0  0.000187  1.031407  2388.0  0.000931   \n",
       "charlie-took   0.369894  1785.0  0.000229  0.588297  1897.0  0.001002   \n",
       "kevin-osei     0.337539  1319.0  0.000331  0.394139  1365.0  0.001717   \n",
       "\n",
       "               darkSkin  stdIAT  stdExp  \n",
       "playerShort                              \n",
       "baptiste-aloe     False     NaN     NaN  \n",
       "charlie-took       True     NaN     NaN  \n",
       "kevin-osei         True     NaN     NaN  \n",
       "\n",
       "[3 rows x 23 columns]"
      ]
     },
     "execution_count": 41,
     "metadata": {},
     "output_type": "execute_result"
    }
   ],
   "source": [
    "df_players[df_players['stdIAT'].isnull()]#.sum()"
   ]
  },
  {
   "cell_type": "markdown",
   "metadata": {},
   "source": [
    "**We can see that there are some NaN values so we replace them with 0**"
   ]
  },
  {
   "cell_type": "code",
   "execution_count": 42,
   "metadata": {
    "collapsed": false
   },
   "outputs": [],
   "source": [
    "df_players.replace(to_replace={'stdIAT': {np.nan : 0}, 'stdExp': {np.nan : 0}, 'stdIAT_carded': {np.nan : 0}}, inplace=True)"
   ]
  },
  {
   "cell_type": "code",
   "execution_count": 43,
   "metadata": {
    "collapsed": true
   },
   "outputs": [],
   "source": [
    "#possible_features_with_bias = ['stdIAT_carded', 'meanIAT_carded', 'meanIAT', 'stdIAT', 'meanExp', 'stdExp', 'height', 'weight', 'games', 'victories', 'ties', 'defeats', 'goals', 'yellowCards', 'yellowReds', 'redCards']\n",
    "possible_features_with_bias = ['meanIAT', 'stdIAT', 'meanExp', 'stdExp', 'height', 'weight', 'games', 'victories', 'ties', 'defeats', 'goals', 'yellowCards', 'yellowReds', 'redCards']"
   ]
  },
  {
   "cell_type": "code",
   "execution_count": 44,
   "metadata": {
    "collapsed": false
   },
   "outputs": [],
   "source": [
    "scores_bias, importances_bias = random_forest_scores(df_players, possible_features_with_bias)"
   ]
  },
  {
   "cell_type": "code",
   "execution_count": 45,
   "metadata": {
    "collapsed": false
   },
   "outputs": [
    {
     "data": {
      "text/plain": [
       "count    20.000000\n",
       "mean      0.794866\n",
       "std       0.047078\n",
       "min       0.708861\n",
       "25%       0.758723\n",
       "50%       0.796170\n",
       "75%       0.825422\n",
       "max       0.884615\n",
       "dtype: float64"
      ]
     },
     "execution_count": 45,
     "metadata": {},
     "output_type": "execute_result"
    }
   ],
   "source": [
    "pd.Series(scores_bias).describe()"
   ]
  },
  {
   "cell_type": "code",
   "execution_count": 46,
   "metadata": {
    "collapsed": false
   },
   "outputs": [
    {
     "data": {
      "image/png": "[encoded data removed]",
      "text/plain": [
       "<matplotlib.figure.Figure at 0x118f4da90>"
      ]
     },
     "metadata": {},
     "output_type": "display_data"
    }
   ],
   "source": [
    "plot_feature_importances(possible_features_with_bias, importances_bias)"
   ]
  },
  {
   "cell_type": "markdown",
   "metadata": {},
   "source": [
    "**When we include the features relating to the racial bias in referee countries, we see a bump of several percent in accuracy, up to 78-79%. These features are ranked highly in importance so they seem to be quite important to the prediction!**"
   ]
  },
  {
   "cell_type": "markdown",
   "metadata": {},
   "source": [
    "# Part 2: Clustering"
   ]
  },
  {
   "cell_type": "markdown",
   "metadata": {},
   "source": [
    "We choose KMeans as clustering algorithm as it is the simplest."
   ]
  },
  {
   "cell_type": "code",
   "execution_count": 47,
   "metadata": {
    "collapsed": true
   },
   "outputs": [],
   "source": [
    "from sklearn.cluster import KMeans\n",
    "from sklearn.metrics import silhouette_score"
   ]
  },
  {
   "cell_type": "markdown",
   "metadata": {},
   "source": [
    "We use the features corresponding to national racial bias in the referee's home countries, since in part 1 we found these to be predictive of skin color."
   ]
  },
  {
   "cell_type": "code",
   "execution_count": 48,
   "metadata": {
    "collapsed": true
   },
   "outputs": [],
   "source": [
    "bias_features = ['meanIAT', 'stdIAT', 'meanExp', 'stdExp']"
   ]
  },
  {
   "cell_type": "code",
   "execution_count": 49,
   "metadata": {
    "collapsed": false
   },
   "outputs": [],
   "source": [
    "X = df_players[bias_features]"
   ]
  },
  {
   "cell_type": "markdown",
   "metadata": {},
   "source": [
    "We run KMeans with the default k-means++ initialization strategy. We're looking for two clusters corresponding to dark skinned and light skinned players respectively."
   ]
  },
  {
   "cell_type": "code",
   "execution_count": 50,
   "metadata": {
    "collapsed": false
   },
   "outputs": [],
   "source": [
    "kmeans = KMeans(n_clusters=2).fit(X)\n",
    "cluster_indexes = kmeans.predict(X)"
   ]
  },
  {
   "cell_type": "code",
   "execution_count": 51,
   "metadata": {
    "collapsed": false
   },
   "outputs": [],
   "source": [
    "cluster1 = df_players.loc[cluster_indexes == 0]\n",
    "cluster2 = df_players.loc[cluster_indexes == 1]\n",
    "\n",
    "def dark_skin_proportion(cluster):\n",
    "    \"\"\"Return the proportion of dark skin player in the cluster\"\"\"\n",
    "    return cluster['darkSkin'].sum() / len(cluster)"
   ]
  },
  {
   "cell_type": "code",
   "execution_count": 52,
   "metadata": {
    "collapsed": false
   },
   "outputs": [
    {
     "name": "stdout",
     "output_type": "stream",
     "text": [
      "0.168289290682 0.304142011834\n"
     ]
    }
   ],
   "source": [
    "print(dark_skin_proportion(cluster1), dark_skin_proportion(cluster2))"
   ]
  },
  {
   "cell_type": "code",
   "execution_count": 53,
   "metadata": {
    "collapsed": true
   },
   "outputs": [],
   "source": [
    "def cluster_dark_separator_score(cluster1, cluster2):\n",
    "    \"\"\"Returns a heuristic that gives a score between 0 and 1 to the cluster assignment.\n",
    "    The higher the score, the more the clusters separate players by skin colors\"\"\"\n",
    "    return np.abs(dark_skin_proportion(cluster1) - dark_skin_proportion(cluster2))"
   ]
  },
  {
   "cell_type": "code",
   "execution_count": 54,
   "metadata": {
    "collapsed": false
   },
   "outputs": [
    {
     "data": {
      "text/plain": [
       "0.13585272115281746"
      ]
     },
     "execution_count": 54,
     "metadata": {},
     "output_type": "execute_result"
    }
   ],
   "source": [
    "cluster_dark_separator_score(cluster1, cluster2)"
   ]
  },
  {
   "cell_type": "code",
   "execution_count": 55,
   "metadata": {
    "collapsed": true
   },
   "outputs": [],
   "source": [
    "def kmean_dark_separator_score(X):\n",
    "    \"\"\"Given a dataset, returns heuristic score and silhouette score for the\n",
    "    clusters generated by KMeans\"\"\"\n",
    "    kmeans = KMeans(n_clusters=2).fit(X)\n",
    "    cluster_indexes = kmeans.predict(X)\n",
    "    cluster1 = df_players.loc[cluster_indexes == 0]\n",
    "    cluster2 = df_players.loc[cluster_indexes == 1]\n",
    "    \n",
    "    \n",
    "    return cluster_dark_separator_score(cluster1, cluster2), silhouette_score(X, cluster_indexes)"
   ]
  },
  {
   "cell_type": "markdown",
   "metadata": {},
   "source": [
    "### Maximize score"
   ]
  },
  {
   "cell_type": "markdown",
   "metadata": {},
   "source": [
    "Let's look at all 1-feature cases"
   ]
  },
  {
   "cell_type": "code",
   "execution_count": 56,
   "metadata": {
    "collapsed": false
   },
   "outputs": [],
   "source": [
    "feature_score_silhouette = []\n",
    "\n",
    "for feature in possible_features_with_bias:\n",
    "    score, silhouette = kmean_dark_separator_score(df_players[[feature]])\n",
    "    feature_score_silhouette.append((feature, score, silhouette))"
   ]
  },
  {
   "cell_type": "markdown",
   "metadata": {},
   "source": [
    "We can see that for the 1-feature case, the silhouette is always between 0.5-0.75 which is quite good. We thus order by the score they give when they are used alone in KMeans."
   ]
  },
  {
   "cell_type": "code",
   "execution_count": 57,
   "metadata": {
    "collapsed": false
   },
   "outputs": [
    {
     "data": {
      "text/plain": [
       "['Feature: stdIAT       Score: 0.27    Silhouette: 0.59',\n",
       " 'Feature: meanIAT      Score: 0.14    Silhouette: 0.61',\n",
       " 'Feature: meanExp      Score: 0.13    Silhouette: 0.61',\n",
       " 'Feature: yellowCards  Score: 0.12    Silhouette: 0.62',\n",
       " 'Feature: stdExp       Score: 0.11    Silhouette: 0.53',\n",
       " 'Feature: games        Score: 0.09    Silhouette: 0.56',\n",
       " 'Feature: defeats      Score: 0.09    Silhouette: 0.60',\n",
       " 'Feature: victories    Score: 0.08    Silhouette: 0.56',\n",
       " 'Feature: goals        Score: 0.06    Silhouette: 0.70',\n",
       " 'Feature: height       Score: 0.06    Silhouette: 0.58',\n",
       " 'Feature: weight       Score: 0.05    Silhouette: 0.56',\n",
       " 'Feature: redCards     Score: 0.04    Silhouette: 0.70',\n",
       " 'Feature: ties         Score: 0.03    Silhouette: 0.59',\n",
       " 'Feature: yellowReds   Score: 0.03    Silhouette: 0.71']"
      ]
     },
     "execution_count": 57,
     "metadata": {},
     "output_type": "execute_result"
    }
   ],
   "source": [
    "feature_score_silhouette = sorted(feature_score_silhouette, key=lambda x:x[1])\n",
    "[\"Feature: {:12} Score: {:.2f}    Silhouette: {:.2f}\".format(feature, score, silhouette) \n",
    "     for feature, score, silhouette in reversed(feature_score_silhouette)]"
   ]
  },
  {
   "cell_type": "markdown",
   "metadata": {},
   "source": [
    "We order the features by score they give as a single KMean feature"
   ]
  },
  {
   "cell_type": "code",
   "execution_count": 58,
   "metadata": {
    "collapsed": false
   },
   "outputs": [
    {
     "data": {
      "text/plain": [
       "'yellowReds,ties,redCards,weight,height,goals,victories,defeats,games,stdExp,yellowCards,meanExp,meanIAT,stdIAT'"
      ]
     },
     "execution_count": 58,
     "metadata": {},
     "output_type": "execute_result"
    }
   ],
   "source": [
    "ordered_features = [fscore[0] for fscore in feature_score_silhouette]\n",
    "\",\".join(ordered_features)"
   ]
  },
  {
   "cell_type": "markdown",
   "metadata": {},
   "source": [
    "We remove each feature iteratively and print the resulting heuristic score and silhouette score"
   ]
  },
  {
   "cell_type": "code",
   "execution_count": 59,
   "metadata": {
    "collapsed": false
   },
   "outputs": [
    {
     "name": "stdout",
     "output_type": "stream",
     "text": [
      "Before removing yellowReds   score is 0.04  silhouette is 0.46\n",
      "Before removing ties         score is 0.04  silhouette is 0.46\n",
      "Before removing redCards     score is 0.04  silhouette is 0.46\n",
      "Before removing weight       score is 0.04  silhouette is 0.46\n",
      "Before removing height       score is 0.06  silhouette is 0.53\n",
      "Before removing goals        score is 0.08  silhouette is 0.44\n",
      "Before removing victories    score is 0.08  silhouette is 0.47\n",
      "Before removing defeats      score is 0.09  silhouette is 0.49\n",
      "Before removing games        score is 0.09  silhouette is 0.51\n",
      "Before removing stdExp       score is 0.12  silhouette is 0.50\n",
      "Before removing yellowCards  score is 0.12  silhouette is 0.55\n",
      "Before removing meanExp      score is 0.14  silhouette is 0.58\n",
      "Before removing meanIAT      score is 0.50  silhouette is 0.55\n",
      "Before removing stdIAT       score is 0.27  silhouette is 0.59\n"
     ]
    }
   ],
   "source": [
    "# Remove each feature iteratively\n",
    "for i in range(len(ordered_features)):\n",
    "    score, silhouette = kmean_dark_separator_score(df_players[ordered_features[i:]])\n",
    "    \n",
    "    print('Before removing {:12} score is {:.02f}  silhouette is {:.02f}'.format(ordered_features[i], score, silhouette))"
   ]
  },
  {
   "cell_type": "markdown",
   "metadata": {},
   "source": [
    "We see that keeping only `[\"meanIAT\", \"stdIAT\"]` is optimal"
   ]
  },
  {
   "cell_type": "code",
   "execution_count": 60,
   "metadata": {
    "collapsed": false
   },
   "outputs": [
    {
     "name": "stdout",
     "output_type": "stream",
     "text": [
      "Cluster 1: 70.23% of dark skin players\n",
      "Cluster 2: 19.96% of dark skin players\n"
     ]
    }
   ],
   "source": [
    "X = df_players[[\"meanIAT\", \"stdIAT\"]]\n",
    "kmeans = KMeans(n_clusters=2).fit(X)\n",
    "cluster_indexes = kmeans.predict(X)\n",
    "cluster1 = df_players.loc[cluster_indexes == 0]\n",
    "cluster2 = df_players.loc[cluster_indexes == 1]\n",
    "\n",
    "FMT = \"Cluster {}: {:.2f}% of dark skin players\"\n",
    "print(FMT.format(1, 100 * dark_skin_proportion(cluster1)))\n",
    "print(FMT.format(2, 100 * dark_skin_proportion(cluster2)))"
   ]
  },
  {
   "cell_type": "markdown",
   "metadata": {},
   "source": [
    "We see the clustering works decently, one cluster contains **a vast majority of dark skin players** while the other contains a **vast majority of light skin players**."
   ]
  },
  {
   "cell_type": "markdown",
   "metadata": {},
   "source": [
    "Also, the silhouette score is good."
   ]
  },
  {
   "cell_type": "code",
   "execution_count": 61,
   "metadata": {
    "collapsed": false
   },
   "outputs": [
    {
     "data": {
      "text/plain": [
       "'Silhouette score: 0.55'"
      ]
     },
     "execution_count": 61,
     "metadata": {},
     "output_type": "execute_result"
    }
   ],
   "source": [
    "\"Silhouette score: {:.2f}\".format(silhouette_score(X, cluster_indexes))"
   ]
  },
  {
   "cell_type": "markdown",
   "metadata": {},
   "source": [
    "**We thus find that using features `[\"meanIAT\", \"stdIAT\"]` gives two clusters with good silhouette score, and separates quite well dark-skin and light-skin players**"
   ]
  },
  {
   "cell_type": "code",
   "execution_count": null,
   "metadata": {
    "collapsed": true
   },
   "outputs": [],
   "source": []
  }
 ],
 "metadata": {
  "anaconda-cloud": {},
  "kernelspec": {
   "display_name": "Python [Root]",
   "language": "python",
   "name": "Python [Root]"
  },
  "language_info": {
   "codemirror_mode": {
    "name": "ipython",
    "version": 3
   },
   "file_extension": ".py",
   "mimetype": "text/x-python",
   "name": "python",
   "nbconvert_exporter": "python",
   "pygments_lexer": "ipython3",
   "version": "3.5.2"
  }
 },
 "nbformat": 4,
 "nbformat_minor": 1
}
