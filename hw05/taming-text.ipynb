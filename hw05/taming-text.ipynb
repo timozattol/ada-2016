{
 "cells": [
  {
   "cell_type": "code",
   "execution_count": null,
   "metadata": {
    "collapsed": false
   },
   "outputs": [],
   "source": [
    "import pandas as pd\n",
    "from os import path\n",
    "from wordcloud import WordCloud\n",
    "\n",
    "%matplotlib inline"
   ]
  },
  {
   "cell_type": "markdown",
   "metadata": {},
   "source": [
    "# Part 0: Loading and cleaning the data"
   ]
  },
  {
   "cell_type": "markdown",
   "metadata": {},
   "source": [
    "**First we need to load the emails into a dataframe.**"
   ]
  },
  {
   "cell_type": "code",
   "execution_count": null,
   "metadata": {
    "collapsed": false
   },
   "outputs": [],
   "source": [
    "# Read Emails.csv into pandas\n",
    "emails_dir = \"hillary-clinton-emails\"\n",
    "emails_csv_filename = \"Emails.csv\"\n",
    "\n",
    "emails_path = path.join(emails_dir, emails_csv_filename)\n",
    "\n",
    "emails_df = pd.read_csv(emails_path)\n",
    "\n",
    "# Take a peek\n",
    "emails_df.sample(5)"
   ]
  },
  {
   "cell_type": "markdown",
   "metadata": {},
   "source": [
    "**We want to create our wordcloud from the column(s) that contain(s) the full text of the emails**"
   ]
  },
  {
   "cell_type": "code",
   "execution_count": null,
   "metadata": {
    "collapsed": false
   },
   "outputs": [],
   "source": [
    "# Which columns of the dataframe contain the text we want for our wordcloud?\n",
    "emails_df.columns\n",
    "\n",
    "#I found:\n",
    "#- ExtractedSubject\n",
    "#- ExtractedBodyText\n",
    "#- RawText\n",
    "\n",
    "# TODO SV check these columns to see if they're actually filled in and make sense\n",
    "emails_df.isnull().sum()"
   ]
  },
  {
   "cell_type": "markdown",
   "metadata": {},
   "source": [
    "**TODO I decided to use the RawText for the wordcloud and might use ExtractedSubject and ExtractedBodyText in later steps.**"
   ]
  },
  {
   "cell_type": "markdown",
   "metadata": {},
   "source": [
    "# Part 1: Generating wordclouds!"
   ]
  },
  {
   "cell_type": "code",
   "execution_count": null,
   "metadata": {
    "collapsed": false
   },
   "outputs": [],
   "source": [
    "#Concatenate all raw text\n",
    "concatenated_raw_text = ' '.join(emails_df['RawText'])\n",
    "len(concatenated_raw_text)\n",
    "\n",
    "# Generate a word cloud image\n",
    "wordcloud = WordCloud().generate(concatenated_raw_text)\n",
    "\n",
    "# Display the generated image:\n",
    "# the matplotlib way:\n",
    "import matplotlib.pyplot as plt\n",
    "plt.imshow(wordcloud)\n",
    "plt.axis(\"off\")"
   ]
  },
  {
   "cell_type": "markdown",
   "metadata": {},
   "source": [
    "**The wordcloud library helpfully removed common english stopwords, but we still have some boring terms like 'date', 'subject', and 'message' in our cloud.**"
   ]
  },
  {
   "cell_type": "markdown",
   "metadata": {},
   "source": [
    "**We can improve the results by doing some pre-processing:**\n",
    "- remove punctuation? TODO didn't bother with this\n",
    "- tokenization\n",
    "- stopword removal\n",
    "- stemming"
   ]
  },
  {
   "cell_type": "code",
   "execution_count": null,
   "metadata": {
    "collapsed": false
   },
   "outputs": [],
   "source": [
    "import nltk\n",
    "from nltk.corpus import stopwords\n",
    "nltk.download()\n",
    "#NOTE to team you should run nltk.download() but maybe outside the notebook"
   ]
  },
  {
   "cell_type": "code",
   "execution_count": null,
   "metadata": {
    "collapsed": false,
    "scrolled": true
   },
   "outputs": [],
   "source": [
    "#Takes a few seconds to run:\n",
    "tokenized = nltk.word_tokenize(concatenated_raw_text)"
   ]
  },
  {
   "cell_type": "code",
   "execution_count": null,
   "metadata": {
    "collapsed": false
   },
   "outputs": [],
   "source": [
    "tokenized[:20]"
   ]
  },
  {
   "cell_type": "markdown",
   "metadata": {},
   "source": [
    "**Let's remove some more stopwords**"
   ]
  },
  {
   "cell_type": "code",
   "execution_count": null,
   "metadata": {
    "collapsed": true
   },
   "outputs": [],
   "source": [
    "#\n",
    "email_stopwords = nltk.corpus.stopwords.words('english')\n",
    "additional_stopwords = ['subject', 'date', 're', 'cc', 'bcc', 'fwd', 'fw', 'sent',\n",
    "                       'state', 'department', 'unclassified', 'message', 'case']\n",
    "email_stopwords.extend(additional_stopwords)"
   ]
  },
  {
   "cell_type": "code",
   "execution_count": null,
   "metadata": {
    "collapsed": false
   },
   "outputs": [],
   "source": [
    "tokens_without_stopwords = [t for t in tokenized if t.lower() not in email_stopwords]"
   ]
  },
  {
   "cell_type": "markdown",
   "metadata": {},
   "source": [
    "**Stemming - we use the porter stemmer to normalize our text**"
   ]
  },
  {
   "cell_type": "code",
   "execution_count": null,
   "metadata": {
    "collapsed": false
   },
   "outputs": [],
   "source": [
    "porter = nltk.PorterStemmer()\n",
    "stemmed = [porter.stem(t) for t in tokens_without_stopwords]\n",
    "stemmed[:20]"
   ]
  },
  {
   "cell_type": "code",
   "execution_count": null,
   "metadata": {
    "collapsed": false
   },
   "outputs": [],
   "source": [
    "wordcloud2 = WordCloud().generate(\" \".join(stemmed))\n",
    "\n",
    "plt.imshow(wordcloud2)\n",
    "plt.axis(\"off\")"
   ]
  },
  {
   "cell_type": "markdown",
   "metadata": {},
   "source": [
    "**The wordcloud looks quite a bit different - now we can see some interesting common words like \"Cheryl\" \"Abedin\" etc. This approach has some pros and cons:**\n",
    "- (+) we were able to remove some of the obviously common words\n",
    "- (-) stemming doesn't seem that useful\n",
    "- (-) removing words is sort of an iterative process as each time we generate the wordcloud we see new frequent words to exclude"
   ]
  },
  {
   "cell_type": "markdown",
   "metadata": {
    "collapsed": true
   },
   "source": [
    "# 2. World country mentions"
   ]
  },
  {
   "cell_type": "code",
   "execution_count": null,
   "metadata": {
    "collapsed": false
   },
   "outputs": [],
   "source": [
    "import pycountry"
   ]
  },
  {
   "cell_type": "code",
   "execution_count": null,
   "metadata": {
    "collapsed": false
   },
   "outputs": [],
   "source": [
    "plt.imshow(WordCloud().generate(\" \".join(tokens_without_stopwords)))\n",
    "plt.axis(\"off\")"
   ]
  },
  {
   "cell_type": "code",
   "execution_count": null,
   "metadata": {
    "collapsed": false
   },
   "outputs": [],
   "source": [
    "import pycountry"
   ]
  },
  {
   "cell_type": "code",
   "execution_count": null,
   "metadata": {
    "collapsed": false
   },
   "outputs": [],
   "source": [
    "countries = {country: 0 for country in pycountry.countries}"
   ]
  },
  {
   "cell_type": "code",
   "execution_count": null,
   "metadata": {
    "collapsed": false
   },
   "outputs": [],
   "source": [
    "bad_tokens = set()\n",
    "\n",
    "for token in tokens_without_stopwords:\n",
    "    if token not in bad_tokens:\n",
    "        try:\n",
    "            country = pycountry.countries.lookup(token)\n",
    "            countries[country] += 1\n",
    "        except LookupError:\n",
    "            bad_tokens.add(token)"
   ]
  },
  {
   "cell_type": "code",
   "execution_count": null,
   "metadata": {
    "collapsed": false
   },
   "outputs": [],
   "source": [
    "country_df = pd.DataFrame.from_dict({country.name: occurence for (country, occurence) in countries.items()}, orient=\"index\")\n",
    "country_df.columns = [\"Occurences\"]"
   ]
  },
  {
   "cell_type": "code",
   "execution_count": null,
   "metadata": {
    "collapsed": false
   },
   "outputs": [],
   "source": [
    "country_df.sort_values(by=\"Occurences\", ascending=False).head(10)"
   ]
  },
  {
   "cell_type": "code",
   "execution_count": null,
   "metadata": {
    "collapsed": false
   },
   "outputs": [],
   "source": [
    "print(pycountry.countries.lookup(\"PM\").name)\n",
    "print(pycountry.countries.lookup(\"AM\").name)"
   ]
  },
  {
   "cell_type": "markdown",
   "metadata": {},
   "source": [
    "**Saint Pierre and Miquelon refers to \"PM\". \"AM\" was already in the stop-words, that's why we don't have problems with Armenia. We could start again with \"pm\" as a stopword, but Saint Pierre and Miquelon is very likely not to appear in any email.**"
   ]
  },
  {
   "cell_type": "code",
   "execution_count": null,
   "metadata": {
    "collapsed": false
   },
   "outputs": [],
   "source": [
    "country_df.loc[\"Saint Pierre and Miquelon\"] = 0\n",
    "country_df.sort_values(by=\"Occurences\", ascending=False).head(10)"
   ]
  },
  {
   "cell_type": "code",
   "execution_count": null,
   "metadata": {
    "collapsed": true
   },
   "outputs": [],
   "source": []
  }
 ],
 "metadata": {
  "anaconda-cloud": {},
  "kernelspec": {
   "display_name": "Python [conda root]",
   "language": "python",
   "name": "conda-root-py"
  },
  "language_info": {
   "codemirror_mode": {
    "name": "ipython",
    "version": 3
   },
   "file_extension": ".py",
   "mimetype": "text/x-python",
   "name": "python",
   "nbconvert_exporter": "python",
   "pygments_lexer": "ipython3",
   "version": "3.5.2"
  }
 },
 "nbformat": 4,
 "nbformat_minor": 0
}
